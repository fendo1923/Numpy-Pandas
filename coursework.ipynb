{
 "cells": [
  {
   "cell_type": "markdown",
   "id": "25a36389-535e-43ed-a0d4-344f1b1d8edd",
   "metadata": {},
   "source": [
    "Ваша задача на этом соревновании - предсказать цены на квартиры в датасете test.csv. Вам будут даны два датасета: train.csv (содержит признаки и цены на квартиры) и test.csv (только признаки)."
   ]
  },
  {
   "cell_type": "markdown",
   "id": "a0f7c799-b086-41fa-bcc5-53202d42ff3f",
   "metadata": {},
   "source": [
    "Описание датасета\n",
    "Id - идентификационный номер квартиры\n",
    "\n",
    "DistrictId - идентификационный номер района\n",
    "\n",
    "Rooms - количество комнат\n",
    "\n",
    "Square - площадь\n",
    "\n",
    "LifeSquare - жилая площадь\n",
    "\n",
    "KitchenSquare - площадь кухни\n",
    "\n",
    "Floor - этаж\n",
    "\n",
    "HouseFloor - количество этажей в доме\n",
    "\n",
    "HouseYear - год постройки дома\n",
    "\n",
    "Ecology_1, Ecology_2, Ecology_3 - экологические показатели местности\n",
    "\n",
    "Social_1, Social_2, Social_3 - социальные показатели местности\n",
    "\n",
    "Healthcare_1, Helthcare_2 - показатели местности, связанные с охраной здоровья\n",
    "\n",
    "Shops_1, Shops_2 - показатели, связанные с наличием магазинов, торговых центров\n",
    "\n",
    "Price - цена квартиры"
   ]
  },
  {
   "cell_type": "markdown",
   "id": "22496f91-81d6-46e6-bb6d-8df4b370dc13",
   "metadata": {},
   "source": [
    "1) Подгружаем библиотеки для дальнейшей работы:"
   ]
  },
  {
   "cell_type": "code",
   "execution_count": 155,
   "id": "ecce09d1-2a87-4072-abcc-284de70b8a05",
   "metadata": {},
   "outputs": [],
   "source": [
    "import pandas as pd\n",
    "import numpy as np\n",
    "\n",
    "from sklearn.model_selection import train_test_split, cross_val_score\n",
    "from sklearn.preprocessing import StandardScaler, RobustScaler\n",
    "from sklearn.ensemble import RandomForestRegressor\n",
    "from sklearn.metrics import r2_score as r2\n",
    "from sklearn.model_selection import KFold, GridSearchCV\n",
    "\n",
    "from datetime import datetime \n",
    "\n",
    "import matplotlib\n",
    "import matplotlib.pyplot as plt\n",
    "\n",
    "import seaborn as sns"
   ]
  },
  {
   "cell_type": "markdown",
   "id": "ce95893a-3458-4416-81b1-1f365df9e1cb",
   "metadata": {},
   "source": [
    "Напишем функцию для отображения информации и построения графиков предсказание тренировочного образца и тестового"
   ]
  },
  {
   "cell_type": "code",
   "execution_count": null,
   "id": "96db9c99-e4b8-4322-bb22-2e3a41e3b1d3",
   "metadata": {
    "tags": []
   },
   "outputs": [],
   "source": [
    "def evaluate_preds(train_true_values, train_pred_values, test_true_values, test_pred_values):\n",
    "    print(\"Train R2:\\t\" + str(round(r2(train_true_values, train_pred_values), 3)))\n",
    "    print(\"Test R2:\\t\" + str(round(r2(test_true_values, test_pred_values), 3)))\n",
    "    \n",
    "    plt.figure(figsize=(18,10))\n",
    "    \n",
    "    plt.subplot(121)\n",
    "    sns.scatterplot(x=train_pred_values, y=train_true_values)\n",
    "    plt.xlabel('Predicted values')\n",
    "    plt.ylabel('True values')\n",
    "    plt.title('Предсказание тренировочного образца')\n",
    "    \n",
    "    plt.subplot(122)\n",
    "    sns.scatterplot(x=test_pred_values, y=test_true_values)\n",
    "    plt.xlabel('Predicted values')\n",
    "    plt.ylabel('True values')\n",
    "    plt.title('Предсказание тестового образца')\n",
    "\n",
    "    plt.show()"
   ]
  },
  {
   "cell_type": "markdown",
   "id": "5ca9ca73-3605-46fe-949c-db14bc152b8f",
   "metadata": {},
   "source": [
    "Для пропуска ошибок и отображения графиков без задействования всплывающих окон используем скрипты:"
   ]
  },
  {
   "cell_type": "code",
   "execution_count": 3,
   "id": "335def0f-6de6-42b5-a240-92806b3769ec",
   "metadata": {},
   "outputs": [],
   "source": [
    "import warnings\n",
    "warnings.filterwarnings('ignore')\n",
    "%matplotlib inline"
   ]
  },
  {
   "cell_type": "markdown",
   "id": "29c0e7b7-fce4-4cd8-a312-d79658dea85e",
   "metadata": {},
   "source": [
    "Загрузжаем датасеты test.csv и train.csv для создания датафреймов testdf, traindf"
   ]
  },
  {
   "cell_type": "code",
   "execution_count": 4,
   "id": "571bb23d-c58e-4e48-bef5-9610532edd78",
   "metadata": {},
   "outputs": [],
   "source": [
    "testdf = pd.read_csv('test.csv')\n",
    "traindf = pd.read_csv('train.csv')"
   ]
  },
  {
   "cell_type": "code",
   "execution_count": 5,
   "id": "89209bfd-5154-441c-af49-58e85c15bf40",
   "metadata": {
    "tags": []
   },
   "outputs": [
    {
     "name": "stdout",
     "output_type": "stream",
     "text": [
      "<class 'pandas.core.frame.DataFrame'>\n",
      "RangeIndex: 5000 entries, 0 to 4999\n",
      "Data columns (total 19 columns):\n",
      " #   Column         Non-Null Count  Dtype  \n",
      "---  ------         --------------  -----  \n",
      " 0   Id             5000 non-null   int64  \n",
      " 1   DistrictId     5000 non-null   int64  \n",
      " 2   Rooms          5000 non-null   float64\n",
      " 3   Square         5000 non-null   float64\n",
      " 4   LifeSquare     3959 non-null   float64\n",
      " 5   KitchenSquare  5000 non-null   float64\n",
      " 6   Floor          5000 non-null   int64  \n",
      " 7   HouseFloor     5000 non-null   float64\n",
      " 8   HouseYear      5000 non-null   int64  \n",
      " 9   Ecology_1      5000 non-null   float64\n",
      " 10  Ecology_2      5000 non-null   object \n",
      " 11  Ecology_3      5000 non-null   object \n",
      " 12  Social_1       5000 non-null   int64  \n",
      " 13  Social_2       5000 non-null   int64  \n",
      " 14  Social_3       5000 non-null   int64  \n",
      " 15  Healthcare_1   2623 non-null   float64\n",
      " 16  Helthcare_2    5000 non-null   int64  \n",
      " 17  Shops_1        5000 non-null   int64  \n",
      " 18  Shops_2        5000 non-null   object \n",
      "dtypes: float64(7), int64(9), object(3)\n",
      "memory usage: 742.3+ KB\n"
     ]
    }
   ],
   "source": [
    "testdf.info()"
   ]
  },
  {
   "cell_type": "code",
   "execution_count": 6,
   "id": "1b09081f-a095-4087-a331-2d242223dda3",
   "metadata": {
    "tags": []
   },
   "outputs": [
    {
     "name": "stdout",
     "output_type": "stream",
     "text": [
      "<class 'pandas.core.frame.DataFrame'>\n",
      "RangeIndex: 10000 entries, 0 to 9999\n",
      "Data columns (total 20 columns):\n",
      " #   Column         Non-Null Count  Dtype  \n",
      "---  ------         --------------  -----  \n",
      " 0   Id             10000 non-null  int64  \n",
      " 1   DistrictId     10000 non-null  int64  \n",
      " 2   Rooms          10000 non-null  float64\n",
      " 3   Square         10000 non-null  float64\n",
      " 4   LifeSquare     7887 non-null   float64\n",
      " 5   KitchenSquare  10000 non-null  float64\n",
      " 6   Floor          10000 non-null  int64  \n",
      " 7   HouseFloor     10000 non-null  float64\n",
      " 8   HouseYear      10000 non-null  int64  \n",
      " 9   Ecology_1      10000 non-null  float64\n",
      " 10  Ecology_2      10000 non-null  object \n",
      " 11  Ecology_3      10000 non-null  object \n",
      " 12  Social_1       10000 non-null  int64  \n",
      " 13  Social_2       10000 non-null  int64  \n",
      " 14  Social_3       10000 non-null  int64  \n",
      " 15  Healthcare_1   5202 non-null   float64\n",
      " 16  Helthcare_2    10000 non-null  int64  \n",
      " 17  Shops_1        10000 non-null  int64  \n",
      " 18  Shops_2        10000 non-null  object \n",
      " 19  Price          10000 non-null  float64\n",
      "dtypes: float64(8), int64(9), object(3)\n",
      "memory usage: 1.5+ MB\n"
     ]
    }
   ],
   "source": [
    "traindf.info()"
   ]
  },
  {
   "cell_type": "markdown",
   "id": "704e507b-5fac-4f13-94dc-b25c5403f1ee",
   "metadata": {},
   "source": [
    "Следующий шаг: уменьшаем занимаемые объёмы памяти датасетами traindf и testdf"
   ]
  },
  {
   "cell_type": "code",
   "execution_count": 7,
   "id": "688fa77a-900b-4f6f-bb01-65cd96cf1463",
   "metadata": {},
   "outputs": [],
   "source": [
    "def reduce_mem_usage(df):\n",
    "    \"\"\" iterate through all the columns of a dataframe and modify the data type\n",
    "        to reduce memory usage.        \n",
    "    \"\"\"\n",
    "    start_mem = traindf.memory_usage().sum() / 1024**2\n",
    "    print('Memory usage of dataframe is {:.2f} MB'.format(start_mem))\n",
    "    \n",
    "    for col in df.columns:\n",
    "        col_type = df[col].dtype\n",
    "        \n",
    "        if col_type != object:\n",
    "            c_min = df[col].min()\n",
    "            c_max = df[col].max()\n",
    "            if str(col_type)[:3] == 'int':\n",
    "                if c_min > np.iinfo(np.int8).min and c_max < np.iinfo(np.int8).max:\n",
    "                    df[col] = df[col].astype(np.int8)\n",
    "                elif c_min > np.iinfo(np.int16).min and c_max < np.iinfo(np.int16).max:\n",
    "                    df[col] = df[col].astype(np.int16)\n",
    "                elif c_min > np.iinfo(np.int32).min and c_max < np.iinfo(np.int32).max:\n",
    "                    df[col] = df[col].astype(np.int32)\n",
    "                elif c_min > np.iinfo(np.int64).min and c_max < np.iinfo(np.int64).max:\n",
    "                    df[col] = df[col].astype(np.int64)  \n",
    "            else:\n",
    "                if c_min > np.finfo(np.float32).min and c_max < np.finfo(np.float32).max:\n",
    "                    df[col] = df[col].astype(np.float32)\n",
    "                else:\n",
    "                    df[col] = df[col].astype(np.float64)\n",
    "\n",
    "    end_mem = df.memory_usage().sum() / 1024**2\n",
    "    print('Memory usage after optimization is: {:.2f} MB'.format(end_mem))\n",
    "    print('Decreased by {:.1f}%'.format(100 * (start_mem - end_mem) / start_mem))\n",
    "    \n",
    "    return df"
   ]
  },
  {
   "cell_type": "code",
   "execution_count": 8,
   "id": "04c0b17b-31bf-4ec3-b224-299af8a79c4d",
   "metadata": {},
   "outputs": [
    {
     "name": "stdout",
     "output_type": "stream",
     "text": [
      "Memory usage of dataframe is 1.53 MB\n",
      "Memory usage after optimization is: 0.69 MB\n",
      "Decreased by 55.0%\n"
     ]
    }
   ],
   "source": [
    "traindf = reduce_mem_usage(traindf)"
   ]
  },
  {
   "cell_type": "code",
   "execution_count": 9,
   "id": "9e20c73d-c836-47f8-8f80-c4de7c1f8d90",
   "metadata": {},
   "outputs": [
    {
     "name": "stdout",
     "output_type": "stream",
     "text": [
      "<class 'pandas.core.frame.DataFrame'>\n",
      "RangeIndex: 10000 entries, 0 to 9999\n",
      "Data columns (total 20 columns):\n",
      " #   Column         Non-Null Count  Dtype  \n",
      "---  ------         --------------  -----  \n",
      " 0   Id             10000 non-null  int16  \n",
      " 1   DistrictId     10000 non-null  int16  \n",
      " 2   Rooms          10000 non-null  float32\n",
      " 3   Square         10000 non-null  float32\n",
      " 4   LifeSquare     7887 non-null   float32\n",
      " 5   KitchenSquare  10000 non-null  float32\n",
      " 6   Floor          10000 non-null  int8   \n",
      " 7   HouseFloor     10000 non-null  float32\n",
      " 8   HouseYear      10000 non-null  int32  \n",
      " 9   Ecology_1      10000 non-null  float32\n",
      " 10  Ecology_2      10000 non-null  object \n",
      " 11  Ecology_3      10000 non-null  object \n",
      " 12  Social_1       10000 non-null  int8   \n",
      " 13  Social_2       10000 non-null  int16  \n",
      " 14  Social_3       10000 non-null  int16  \n",
      " 15  Healthcare_1   5202 non-null   float32\n",
      " 16  Helthcare_2    10000 non-null  int8   \n",
      " 17  Shops_1        10000 non-null  int8   \n",
      " 18  Shops_2        10000 non-null  object \n",
      " 19  Price          10000 non-null  float32\n",
      "dtypes: float32(8), int16(4), int32(1), int8(4), object(3)\n",
      "memory usage: 703.2+ KB\n"
     ]
    }
   ],
   "source": [
    "traindf.info()"
   ]
  },
  {
   "cell_type": "code",
   "execution_count": 10,
   "id": "89723b04-31b3-4a16-bf38-b9cc2e4f744e",
   "metadata": {},
   "outputs": [
    {
     "name": "stdout",
     "output_type": "stream",
     "text": [
      "Memory usage of dataframe is 0.69 MB\n",
      "Memory usage after optimization is: 0.31 MB\n",
      "Decreased by 54.2%\n"
     ]
    }
   ],
   "source": [
    "testdf = reduce_mem_usage(testdf)"
   ]
  },
  {
   "cell_type": "code",
   "execution_count": 11,
   "id": "01fd7012-9dfc-4e30-88f0-dd639dae05f6",
   "metadata": {},
   "outputs": [
    {
     "name": "stdout",
     "output_type": "stream",
     "text": [
      "<class 'pandas.core.frame.DataFrame'>\n",
      "RangeIndex: 5000 entries, 0 to 4999\n",
      "Data columns (total 19 columns):\n",
      " #   Column         Non-Null Count  Dtype  \n",
      "---  ------         --------------  -----  \n",
      " 0   Id             5000 non-null   int16  \n",
      " 1   DistrictId     5000 non-null   int16  \n",
      " 2   Rooms          5000 non-null   float32\n",
      " 3   Square         5000 non-null   float32\n",
      " 4   LifeSquare     3959 non-null   float32\n",
      " 5   KitchenSquare  5000 non-null   float32\n",
      " 6   Floor          5000 non-null   int8   \n",
      " 7   HouseFloor     5000 non-null   float32\n",
      " 8   HouseYear      5000 non-null   int16  \n",
      " 9   Ecology_1      5000 non-null   float32\n",
      " 10  Ecology_2      5000 non-null   object \n",
      " 11  Ecology_3      5000 non-null   object \n",
      " 12  Social_1       5000 non-null   int8   \n",
      " 13  Social_2       5000 non-null   int16  \n",
      " 14  Social_3       5000 non-null   int16  \n",
      " 15  Healthcare_1   2623 non-null   float32\n",
      " 16  Helthcare_2    5000 non-null   int8   \n",
      " 17  Shops_1        5000 non-null   int8   \n",
      " 18  Shops_2        5000 non-null   object \n",
      "dtypes: float32(7), int16(5), int8(4), object(3)\n",
      "memory usage: 322.4+ KB\n"
     ]
    }
   ],
   "source": [
    "testdf.info()"
   ]
  },
  {
   "cell_type": "code",
   "execution_count": 170,
   "id": "584345bc-e0f4-470b-9cb1-db0e53677690",
   "metadata": {},
   "outputs": [
    {
     "data": {
      "text/html": [
       "<div>\n",
       "<style scoped>\n",
       "    .dataframe tbody tr th:only-of-type {\n",
       "        vertical-align: middle;\n",
       "    }\n",
       "\n",
       "    .dataframe tbody tr th {\n",
       "        vertical-align: top;\n",
       "    }\n",
       "\n",
       "    .dataframe thead th {\n",
       "        text-align: right;\n",
       "    }\n",
       "</style>\n",
       "<table border=\"1\" class=\"dataframe\">\n",
       "  <thead>\n",
       "    <tr style=\"text-align: right;\">\n",
       "      <th></th>\n",
       "      <th>Id</th>\n",
       "      <th>DistrictId</th>\n",
       "      <th>Rooms</th>\n",
       "      <th>Square</th>\n",
       "      <th>LifeSquare</th>\n",
       "      <th>KitchenSquare</th>\n",
       "      <th>Floor</th>\n",
       "      <th>HouseFloor</th>\n",
       "      <th>HouseYear</th>\n",
       "      <th>Ecology_1</th>\n",
       "      <th>Social_1</th>\n",
       "      <th>Social_2</th>\n",
       "      <th>Social_3</th>\n",
       "      <th>Healthcare_1</th>\n",
       "      <th>Helthcare_2</th>\n",
       "      <th>Shops_1</th>\n",
       "      <th>Healthcare_1_nan</th>\n",
       "      <th>LifeSquare_nan</th>\n",
       "    </tr>\n",
       "  </thead>\n",
       "  <tbody>\n",
       "    <tr>\n",
       "      <th>0</th>\n",
       "      <td>4567</td>\n",
       "      <td>44</td>\n",
       "      <td>1.0</td>\n",
       "      <td>36.847630</td>\n",
       "      <td>19.094182</td>\n",
       "      <td>5.0</td>\n",
       "      <td>5</td>\n",
       "      <td>9.000000</td>\n",
       "      <td>1970.0</td>\n",
       "      <td>0.036122</td>\n",
       "      <td>24</td>\n",
       "      <td>4378</td>\n",
       "      <td>0</td>\n",
       "      <td>1036.000000</td>\n",
       "      <td>1</td>\n",
       "      <td>1</td>\n",
       "      <td>0</td>\n",
       "      <td>0</td>\n",
       "    </tr>\n",
       "    <tr>\n",
       "      <th>1</th>\n",
       "      <td>5925</td>\n",
       "      <td>62</td>\n",
       "      <td>1.0</td>\n",
       "      <td>42.493907</td>\n",
       "      <td>42.568133</td>\n",
       "      <td>10.0</td>\n",
       "      <td>7</td>\n",
       "      <td>17.000000</td>\n",
       "      <td>2017.0</td>\n",
       "      <td>0.072158</td>\n",
       "      <td>2</td>\n",
       "      <td>629</td>\n",
       "      <td>1</td>\n",
       "      <td>57.915904</td>\n",
       "      <td>0</td>\n",
       "      <td>0</td>\n",
       "      <td>1</td>\n",
       "      <td>0</td>\n",
       "    </tr>\n",
       "    <tr>\n",
       "      <th>2</th>\n",
       "      <td>960</td>\n",
       "      <td>27</td>\n",
       "      <td>2.0</td>\n",
       "      <td>59.463678</td>\n",
       "      <td>45.463678</td>\n",
       "      <td>9.0</td>\n",
       "      <td>19</td>\n",
       "      <td>19.000000</td>\n",
       "      <td>1977.0</td>\n",
       "      <td>0.211401</td>\n",
       "      <td>9</td>\n",
       "      <td>1892</td>\n",
       "      <td>0</td>\n",
       "      <td>57.915904</td>\n",
       "      <td>0</td>\n",
       "      <td>1</td>\n",
       "      <td>1</td>\n",
       "      <td>1</td>\n",
       "    </tr>\n",
       "    <tr>\n",
       "      <th>3</th>\n",
       "      <td>3848</td>\n",
       "      <td>23</td>\n",
       "      <td>3.0</td>\n",
       "      <td>49.646030</td>\n",
       "      <td>33.893825</td>\n",
       "      <td>6.0</td>\n",
       "      <td>2</td>\n",
       "      <td>12.587313</td>\n",
       "      <td>1965.0</td>\n",
       "      <td>0.014073</td>\n",
       "      <td>2</td>\n",
       "      <td>475</td>\n",
       "      <td>0</td>\n",
       "      <td>57.915904</td>\n",
       "      <td>0</td>\n",
       "      <td>0</td>\n",
       "      <td>1</td>\n",
       "      <td>0</td>\n",
       "    </tr>\n",
       "    <tr>\n",
       "      <th>4</th>\n",
       "      <td>746</td>\n",
       "      <td>74</td>\n",
       "      <td>1.0</td>\n",
       "      <td>53.837056</td>\n",
       "      <td>43.837056</td>\n",
       "      <td>5.0</td>\n",
       "      <td>8</td>\n",
       "      <td>17.000000</td>\n",
       "      <td>1977.0</td>\n",
       "      <td>0.309479</td>\n",
       "      <td>35</td>\n",
       "      <td>7715</td>\n",
       "      <td>4</td>\n",
       "      <td>990.000000</td>\n",
       "      <td>0</td>\n",
       "      <td>6</td>\n",
       "      <td>0</td>\n",
       "      <td>1</td>\n",
       "    </tr>\n",
       "    <tr>\n",
       "      <th>...</th>\n",
       "      <td>...</td>\n",
       "      <td>...</td>\n",
       "      <td>...</td>\n",
       "      <td>...</td>\n",
       "      <td>...</td>\n",
       "      <td>...</td>\n",
       "      <td>...</td>\n",
       "      <td>...</td>\n",
       "      <td>...</td>\n",
       "      <td>...</td>\n",
       "      <td>...</td>\n",
       "      <td>...</td>\n",
       "      <td>...</td>\n",
       "      <td>...</td>\n",
       "      <td>...</td>\n",
       "      <td>...</td>\n",
       "      <td>...</td>\n",
       "      <td>...</td>\n",
       "    </tr>\n",
       "    <tr>\n",
       "      <th>4995</th>\n",
       "      <td>10379</td>\n",
       "      <td>29</td>\n",
       "      <td>2.0</td>\n",
       "      <td>43.177521</td>\n",
       "      <td>30.339945</td>\n",
       "      <td>5.0</td>\n",
       "      <td>6</td>\n",
       "      <td>5.000000</td>\n",
       "      <td>1962.0</td>\n",
       "      <td>0.069660</td>\n",
       "      <td>31</td>\n",
       "      <td>6119</td>\n",
       "      <td>4</td>\n",
       "      <td>57.915904</td>\n",
       "      <td>1</td>\n",
       "      <td>2</td>\n",
       "      <td>1</td>\n",
       "      <td>0</td>\n",
       "    </tr>\n",
       "    <tr>\n",
       "      <th>4996</th>\n",
       "      <td>16138</td>\n",
       "      <td>38</td>\n",
       "      <td>3.0</td>\n",
       "      <td>93.698122</td>\n",
       "      <td>94.521465</td>\n",
       "      <td>10.0</td>\n",
       "      <td>21</td>\n",
       "      <td>27.000000</td>\n",
       "      <td>2018.0</td>\n",
       "      <td>0.060753</td>\n",
       "      <td>15</td>\n",
       "      <td>2787</td>\n",
       "      <td>2</td>\n",
       "      <td>520.000000</td>\n",
       "      <td>0</td>\n",
       "      <td>7</td>\n",
       "      <td>0</td>\n",
       "      <td>0</td>\n",
       "    </tr>\n",
       "    <tr>\n",
       "      <th>4997</th>\n",
       "      <td>3912</td>\n",
       "      <td>101</td>\n",
       "      <td>1.0</td>\n",
       "      <td>33.656723</td>\n",
       "      <td>19.003259</td>\n",
       "      <td>5.0</td>\n",
       "      <td>2</td>\n",
       "      <td>5.000000</td>\n",
       "      <td>1966.0</td>\n",
       "      <td>0.038693</td>\n",
       "      <td>28</td>\n",
       "      <td>6533</td>\n",
       "      <td>1</td>\n",
       "      <td>1015.000000</td>\n",
       "      <td>2</td>\n",
       "      <td>5</td>\n",
       "      <td>0</td>\n",
       "      <td>0</td>\n",
       "    </tr>\n",
       "    <tr>\n",
       "      <th>4998</th>\n",
       "      <td>5722</td>\n",
       "      <td>10</td>\n",
       "      <td>1.0</td>\n",
       "      <td>38.635155</td>\n",
       "      <td>20.976257</td>\n",
       "      <td>9.0</td>\n",
       "      <td>8</td>\n",
       "      <td>14.000000</td>\n",
       "      <td>1970.0</td>\n",
       "      <td>0.089040</td>\n",
       "      <td>33</td>\n",
       "      <td>7976</td>\n",
       "      <td>5</td>\n",
       "      <td>57.915904</td>\n",
       "      <td>0</td>\n",
       "      <td>11</td>\n",
       "      <td>1</td>\n",
       "      <td>0</td>\n",
       "    </tr>\n",
       "    <tr>\n",
       "      <th>4999</th>\n",
       "      <td>11004</td>\n",
       "      <td>21</td>\n",
       "      <td>2.0</td>\n",
       "      <td>67.122742</td>\n",
       "      <td>33.944344</td>\n",
       "      <td>13.0</td>\n",
       "      <td>9</td>\n",
       "      <td>17.000000</td>\n",
       "      <td>2009.0</td>\n",
       "      <td>0.194489</td>\n",
       "      <td>47</td>\n",
       "      <td>8004</td>\n",
       "      <td>3</td>\n",
       "      <td>125.000000</td>\n",
       "      <td>3</td>\n",
       "      <td>5</td>\n",
       "      <td>0</td>\n",
       "      <td>0</td>\n",
       "    </tr>\n",
       "  </tbody>\n",
       "</table>\n",
       "<p>5000 rows × 18 columns</p>\n",
       "</div>"
      ],
      "text/plain": [
       "         Id  DistrictId  Rooms     Square  LifeSquare  KitchenSquare  Floor  \\\n",
       "0      4567          44    1.0  36.847630   19.094182            5.0      5   \n",
       "1      5925          62    1.0  42.493907   42.568133           10.0      7   \n",
       "2       960          27    2.0  59.463678   45.463678            9.0     19   \n",
       "3      3848          23    3.0  49.646030   33.893825            6.0      2   \n",
       "4       746          74    1.0  53.837056   43.837056            5.0      8   \n",
       "...     ...         ...    ...        ...         ...            ...    ...   \n",
       "4995  10379          29    2.0  43.177521   30.339945            5.0      6   \n",
       "4996  16138          38    3.0  93.698122   94.521465           10.0     21   \n",
       "4997   3912         101    1.0  33.656723   19.003259            5.0      2   \n",
       "4998   5722          10    1.0  38.635155   20.976257            9.0      8   \n",
       "4999  11004          21    2.0  67.122742   33.944344           13.0      9   \n",
       "\n",
       "      HouseFloor  HouseYear  Ecology_1  Social_1  Social_2  Social_3  \\\n",
       "0       9.000000     1970.0   0.036122        24      4378         0   \n",
       "1      17.000000     2017.0   0.072158         2       629         1   \n",
       "2      19.000000     1977.0   0.211401         9      1892         0   \n",
       "3      12.587313     1965.0   0.014073         2       475         0   \n",
       "4      17.000000     1977.0   0.309479        35      7715         4   \n",
       "...          ...        ...        ...       ...       ...       ...   \n",
       "4995    5.000000     1962.0   0.069660        31      6119         4   \n",
       "4996   27.000000     2018.0   0.060753        15      2787         2   \n",
       "4997    5.000000     1966.0   0.038693        28      6533         1   \n",
       "4998   14.000000     1970.0   0.089040        33      7976         5   \n",
       "4999   17.000000     2009.0   0.194489        47      8004         3   \n",
       "\n",
       "      Healthcare_1  Helthcare_2  Shops_1  Healthcare_1_nan  LifeSquare_nan  \n",
       "0      1036.000000            1        1                 0               0  \n",
       "1        57.915904            0        0                 1               0  \n",
       "2        57.915904            0        1                 1               1  \n",
       "3        57.915904            0        0                 1               0  \n",
       "4       990.000000            0        6                 0               1  \n",
       "...            ...          ...      ...               ...             ...  \n",
       "4995     57.915904            1        2                 1               0  \n",
       "4996    520.000000            0        7                 0               0  \n",
       "4997   1015.000000            2        5                 0               0  \n",
       "4998     57.915904            0       11                 1               0  \n",
       "4999    125.000000            3        5                 0               0  \n",
       "\n",
       "[5000 rows x 18 columns]"
      ]
     },
     "execution_count": 170,
     "metadata": {},
     "output_type": "execute_result"
    }
   ],
   "source": [
    "testdf"
   ]
  },
  {
   "cell_type": "code",
   "execution_count": 13,
   "id": "2d6cc082-4f9f-4585-b8ee-2a5e36954c7d",
   "metadata": {},
   "outputs": [
    {
     "data": {
      "text/html": [
       "<div>\n",
       "<style scoped>\n",
       "    .dataframe tbody tr th:only-of-type {\n",
       "        vertical-align: middle;\n",
       "    }\n",
       "\n",
       "    .dataframe tbody tr th {\n",
       "        vertical-align: top;\n",
       "    }\n",
       "\n",
       "    .dataframe thead th {\n",
       "        text-align: right;\n",
       "    }\n",
       "</style>\n",
       "<table border=\"1\" class=\"dataframe\">\n",
       "  <thead>\n",
       "    <tr style=\"text-align: right;\">\n",
       "      <th></th>\n",
       "      <th>Id</th>\n",
       "      <th>DistrictId</th>\n",
       "      <th>Rooms</th>\n",
       "      <th>Square</th>\n",
       "      <th>LifeSquare</th>\n",
       "      <th>KitchenSquare</th>\n",
       "      <th>Floor</th>\n",
       "      <th>HouseFloor</th>\n",
       "      <th>HouseYear</th>\n",
       "      <th>Ecology_1</th>\n",
       "      <th>Ecology_2</th>\n",
       "      <th>Ecology_3</th>\n",
       "      <th>Social_1</th>\n",
       "      <th>Social_2</th>\n",
       "      <th>Social_3</th>\n",
       "      <th>Healthcare_1</th>\n",
       "      <th>Helthcare_2</th>\n",
       "      <th>Shops_1</th>\n",
       "      <th>Shops_2</th>\n",
       "      <th>Price</th>\n",
       "    </tr>\n",
       "  </thead>\n",
       "  <tbody>\n",
       "    <tr>\n",
       "      <th>0</th>\n",
       "      <td>11809</td>\n",
       "      <td>27</td>\n",
       "      <td>3.0</td>\n",
       "      <td>115.027313</td>\n",
       "      <td>NaN</td>\n",
       "      <td>10.0</td>\n",
       "      <td>4</td>\n",
       "      <td>10.0</td>\n",
       "      <td>2014</td>\n",
       "      <td>0.075424</td>\n",
       "      <td>B</td>\n",
       "      <td>B</td>\n",
       "      <td>11</td>\n",
       "      <td>3097</td>\n",
       "      <td>0</td>\n",
       "      <td>NaN</td>\n",
       "      <td>0</td>\n",
       "      <td>0</td>\n",
       "      <td>B</td>\n",
       "      <td>305018.875000</td>\n",
       "    </tr>\n",
       "    <tr>\n",
       "      <th>1</th>\n",
       "      <td>3013</td>\n",
       "      <td>22</td>\n",
       "      <td>1.0</td>\n",
       "      <td>39.832523</td>\n",
       "      <td>23.169222</td>\n",
       "      <td>8.0</td>\n",
       "      <td>7</td>\n",
       "      <td>8.0</td>\n",
       "      <td>1966</td>\n",
       "      <td>0.118537</td>\n",
       "      <td>B</td>\n",
       "      <td>B</td>\n",
       "      <td>30</td>\n",
       "      <td>6207</td>\n",
       "      <td>1</td>\n",
       "      <td>1183.0</td>\n",
       "      <td>1</td>\n",
       "      <td>0</td>\n",
       "      <td>B</td>\n",
       "      <td>177734.546875</td>\n",
       "    </tr>\n",
       "    <tr>\n",
       "      <th>2</th>\n",
       "      <td>8215</td>\n",
       "      <td>1</td>\n",
       "      <td>3.0</td>\n",
       "      <td>78.342216</td>\n",
       "      <td>47.671970</td>\n",
       "      <td>10.0</td>\n",
       "      <td>2</td>\n",
       "      <td>17.0</td>\n",
       "      <td>1988</td>\n",
       "      <td>0.025609</td>\n",
       "      <td>B</td>\n",
       "      <td>B</td>\n",
       "      <td>33</td>\n",
       "      <td>5261</td>\n",
       "      <td>0</td>\n",
       "      <td>240.0</td>\n",
       "      <td>3</td>\n",
       "      <td>1</td>\n",
       "      <td>B</td>\n",
       "      <td>282078.718750</td>\n",
       "    </tr>\n",
       "    <tr>\n",
       "      <th>3</th>\n",
       "      <td>2352</td>\n",
       "      <td>1</td>\n",
       "      <td>1.0</td>\n",
       "      <td>40.409908</td>\n",
       "      <td>NaN</td>\n",
       "      <td>1.0</td>\n",
       "      <td>10</td>\n",
       "      <td>22.0</td>\n",
       "      <td>1977</td>\n",
       "      <td>0.007122</td>\n",
       "      <td>B</td>\n",
       "      <td>B</td>\n",
       "      <td>1</td>\n",
       "      <td>264</td>\n",
       "      <td>0</td>\n",
       "      <td>NaN</td>\n",
       "      <td>0</td>\n",
       "      <td>1</td>\n",
       "      <td>B</td>\n",
       "      <td>168106.000000</td>\n",
       "    </tr>\n",
       "    <tr>\n",
       "      <th>4</th>\n",
       "      <td>13866</td>\n",
       "      <td>94</td>\n",
       "      <td>2.0</td>\n",
       "      <td>64.285065</td>\n",
       "      <td>38.562515</td>\n",
       "      <td>9.0</td>\n",
       "      <td>16</td>\n",
       "      <td>16.0</td>\n",
       "      <td>1972</td>\n",
       "      <td>0.282798</td>\n",
       "      <td>B</td>\n",
       "      <td>B</td>\n",
       "      <td>33</td>\n",
       "      <td>8667</td>\n",
       "      <td>2</td>\n",
       "      <td>NaN</td>\n",
       "      <td>0</td>\n",
       "      <td>6</td>\n",
       "      <td>B</td>\n",
       "      <td>343995.093750</td>\n",
       "    </tr>\n",
       "    <tr>\n",
       "      <th>...</th>\n",
       "      <td>...</td>\n",
       "      <td>...</td>\n",
       "      <td>...</td>\n",
       "      <td>...</td>\n",
       "      <td>...</td>\n",
       "      <td>...</td>\n",
       "      <td>...</td>\n",
       "      <td>...</td>\n",
       "      <td>...</td>\n",
       "      <td>...</td>\n",
       "      <td>...</td>\n",
       "      <td>...</td>\n",
       "      <td>...</td>\n",
       "      <td>...</td>\n",
       "      <td>...</td>\n",
       "      <td>...</td>\n",
       "      <td>...</td>\n",
       "      <td>...</td>\n",
       "      <td>...</td>\n",
       "      <td>...</td>\n",
       "    </tr>\n",
       "    <tr>\n",
       "      <th>9995</th>\n",
       "      <td>1260</td>\n",
       "      <td>61</td>\n",
       "      <td>2.0</td>\n",
       "      <td>49.090729</td>\n",
       "      <td>33.272625</td>\n",
       "      <td>6.0</td>\n",
       "      <td>3</td>\n",
       "      <td>12.0</td>\n",
       "      <td>1981</td>\n",
       "      <td>0.300323</td>\n",
       "      <td>B</td>\n",
       "      <td>B</td>\n",
       "      <td>52</td>\n",
       "      <td>10311</td>\n",
       "      <td>6</td>\n",
       "      <td>NaN</td>\n",
       "      <td>1</td>\n",
       "      <td>9</td>\n",
       "      <td>B</td>\n",
       "      <td>119367.453125</td>\n",
       "    </tr>\n",
       "    <tr>\n",
       "      <th>9996</th>\n",
       "      <td>16265</td>\n",
       "      <td>27</td>\n",
       "      <td>2.0</td>\n",
       "      <td>64.307686</td>\n",
       "      <td>37.038422</td>\n",
       "      <td>9.0</td>\n",
       "      <td>13</td>\n",
       "      <td>0.0</td>\n",
       "      <td>1977</td>\n",
       "      <td>0.072158</td>\n",
       "      <td>B</td>\n",
       "      <td>B</td>\n",
       "      <td>2</td>\n",
       "      <td>629</td>\n",
       "      <td>1</td>\n",
       "      <td>NaN</td>\n",
       "      <td>0</td>\n",
       "      <td>0</td>\n",
       "      <td>A</td>\n",
       "      <td>199715.156250</td>\n",
       "    </tr>\n",
       "    <tr>\n",
       "      <th>9997</th>\n",
       "      <td>2795</td>\n",
       "      <td>178</td>\n",
       "      <td>1.0</td>\n",
       "      <td>29.648056</td>\n",
       "      <td>16.555363</td>\n",
       "      <td>5.0</td>\n",
       "      <td>3</td>\n",
       "      <td>5.0</td>\n",
       "      <td>1958</td>\n",
       "      <td>0.460556</td>\n",
       "      <td>B</td>\n",
       "      <td>B</td>\n",
       "      <td>20</td>\n",
       "      <td>4386</td>\n",
       "      <td>14</td>\n",
       "      <td>NaN</td>\n",
       "      <td>1</td>\n",
       "      <td>5</td>\n",
       "      <td>B</td>\n",
       "      <td>165953.906250</td>\n",
       "    </tr>\n",
       "    <tr>\n",
       "      <th>9998</th>\n",
       "      <td>14561</td>\n",
       "      <td>21</td>\n",
       "      <td>1.0</td>\n",
       "      <td>32.330292</td>\n",
       "      <td>22.326870</td>\n",
       "      <td>5.0</td>\n",
       "      <td>3</td>\n",
       "      <td>9.0</td>\n",
       "      <td>1969</td>\n",
       "      <td>0.194489</td>\n",
       "      <td>B</td>\n",
       "      <td>B</td>\n",
       "      <td>47</td>\n",
       "      <td>8004</td>\n",
       "      <td>3</td>\n",
       "      <td>125.0</td>\n",
       "      <td>3</td>\n",
       "      <td>5</td>\n",
       "      <td>B</td>\n",
       "      <td>171842.406250</td>\n",
       "    </tr>\n",
       "    <tr>\n",
       "      <th>9999</th>\n",
       "      <td>7202</td>\n",
       "      <td>94</td>\n",
       "      <td>1.0</td>\n",
       "      <td>35.815475</td>\n",
       "      <td>22.301367</td>\n",
       "      <td>6.0</td>\n",
       "      <td>9</td>\n",
       "      <td>9.0</td>\n",
       "      <td>1975</td>\n",
       "      <td>0.127376</td>\n",
       "      <td>B</td>\n",
       "      <td>B</td>\n",
       "      <td>43</td>\n",
       "      <td>8429</td>\n",
       "      <td>3</td>\n",
       "      <td>NaN</td>\n",
       "      <td>3</td>\n",
       "      <td>9</td>\n",
       "      <td>B</td>\n",
       "      <td>177685.625000</td>\n",
       "    </tr>\n",
       "  </tbody>\n",
       "</table>\n",
       "<p>10000 rows × 20 columns</p>\n",
       "</div>"
      ],
      "text/plain": [
       "         Id  DistrictId  Rooms      Square  LifeSquare  KitchenSquare  Floor  \\\n",
       "0     11809          27    3.0  115.027313         NaN           10.0      4   \n",
       "1      3013          22    1.0   39.832523   23.169222            8.0      7   \n",
       "2      8215           1    3.0   78.342216   47.671970           10.0      2   \n",
       "3      2352           1    1.0   40.409908         NaN            1.0     10   \n",
       "4     13866          94    2.0   64.285065   38.562515            9.0     16   \n",
       "...     ...         ...    ...         ...         ...            ...    ...   \n",
       "9995   1260          61    2.0   49.090729   33.272625            6.0      3   \n",
       "9996  16265          27    2.0   64.307686   37.038422            9.0     13   \n",
       "9997   2795         178    1.0   29.648056   16.555363            5.0      3   \n",
       "9998  14561          21    1.0   32.330292   22.326870            5.0      3   \n",
       "9999   7202          94    1.0   35.815475   22.301367            6.0      9   \n",
       "\n",
       "      HouseFloor  HouseYear  Ecology_1 Ecology_2 Ecology_3  Social_1  \\\n",
       "0           10.0       2014   0.075424         B         B        11   \n",
       "1            8.0       1966   0.118537         B         B        30   \n",
       "2           17.0       1988   0.025609         B         B        33   \n",
       "3           22.0       1977   0.007122         B         B         1   \n",
       "4           16.0       1972   0.282798         B         B        33   \n",
       "...          ...        ...        ...       ...       ...       ...   \n",
       "9995        12.0       1981   0.300323         B         B        52   \n",
       "9996         0.0       1977   0.072158         B         B         2   \n",
       "9997         5.0       1958   0.460556         B         B        20   \n",
       "9998         9.0       1969   0.194489         B         B        47   \n",
       "9999         9.0       1975   0.127376         B         B        43   \n",
       "\n",
       "      Social_2  Social_3  Healthcare_1  Helthcare_2  Shops_1 Shops_2  \\\n",
       "0         3097         0           NaN            0        0       B   \n",
       "1         6207         1        1183.0            1        0       B   \n",
       "2         5261         0         240.0            3        1       B   \n",
       "3          264         0           NaN            0        1       B   \n",
       "4         8667         2           NaN            0        6       B   \n",
       "...        ...       ...           ...          ...      ...     ...   \n",
       "9995     10311         6           NaN            1        9       B   \n",
       "9996       629         1           NaN            0        0       A   \n",
       "9997      4386        14           NaN            1        5       B   \n",
       "9998      8004         3         125.0            3        5       B   \n",
       "9999      8429         3           NaN            3        9       B   \n",
       "\n",
       "              Price  \n",
       "0     305018.875000  \n",
       "1     177734.546875  \n",
       "2     282078.718750  \n",
       "3     168106.000000  \n",
       "4     343995.093750  \n",
       "...             ...  \n",
       "9995  119367.453125  \n",
       "9996  199715.156250  \n",
       "9997  165953.906250  \n",
       "9998  171842.406250  \n",
       "9999  177685.625000  \n",
       "\n",
       "[10000 rows x 20 columns]"
      ]
     },
     "execution_count": 13,
     "metadata": {},
     "output_type": "execute_result"
    }
   ],
   "source": [
    "traindf"
   ]
  },
  {
   "cell_type": "code",
   "execution_count": 14,
   "id": "5c589d4d-d940-4031-80e7-95bc4d4dd45a",
   "metadata": {},
   "outputs": [
    {
     "name": "stdout",
     "output_type": "stream",
     "text": [
      "Строк в трейне: 10000\n",
      "Строк в тесте 5000\n"
     ]
    }
   ],
   "source": [
    "print('Строк в трейне:', traindf.shape[0])\n",
    "print('Строк в тесте', testdf.shape[0])"
   ]
  },
  {
   "cell_type": "code",
   "execution_count": 15,
   "id": "b207dc20-184d-4d57-ac64-24d633daef42",
   "metadata": {},
   "outputs": [
    {
     "data": {
      "image/png": "[encoded data removed]",
      "text/plain": [
       "<Figure size 432x288 with 1 Axes>"
      ]
     },
     "metadata": {
      "needs_background": "light"
     },
     "output_type": "display_data"
    }
   ],
   "source": [
    "traindf['Price'].hist(bins=20)\n",
    "plt.ylabel('Количество')\n",
    "plt.xlabel('Стоимость')\n",
    "\n",
    "plt.title('Количество к стоимости')\n",
    "plt.show()"
   ]
  },
  {
   "cell_type": "code",
   "execution_count": 16,
   "id": "325c18b0-3486-41a1-9180-9e4eeaf9e818",
   "metadata": {},
   "outputs": [
    {
     "data": {
      "image/png": "[encoded data removed]",
      "text/plain": [
       "<Figure size 432x288 with 1 Axes>"
      ]
     },
     "metadata": {
      "needs_background": "light"
     },
     "output_type": "display_data"
    }
   ],
   "source": [
    "testdf['Rooms'].hist(bins=12)\n",
    "plt.ylabel('Количество')\n",
    "plt.xlabel('Количество комнат')\n",
    "\n",
    "plt.title('Количество к стоимости')\n",
    "plt.show()"
   ]
  },
  {
   "cell_type": "code",
   "execution_count": 17,
   "id": "867fd184-f1fe-4468-9457-4752b1cdc9b2",
   "metadata": {},
   "outputs": [
    {
     "data": {
      "text/plain": [
       "Index(['Id', 'DistrictId', 'Rooms', 'Square', 'LifeSquare', 'KitchenSquare',\n",
       "       'Floor', 'HouseFloor', 'HouseYear', 'Ecology_1', 'Ecology_2',\n",
       "       'Ecology_3', 'Social_1', 'Social_2', 'Social_3', 'Healthcare_1',\n",
       "       'Helthcare_2', 'Shops_1', 'Shops_2'],\n",
       "      dtype='object')"
      ]
     },
     "execution_count": 17,
     "metadata": {},
     "output_type": "execute_result"
    }
   ],
   "source": [
    "testdf.keys()"
   ]
  },
  {
   "cell_type": "code",
   "execution_count": 18,
   "id": "6606887d-adc1-4c72-a73f-20042189a105",
   "metadata": {},
   "outputs": [
    {
     "data": {
      "text/plain": [
       "Index(['Id', 'DistrictId', 'Rooms', 'Square', 'LifeSquare', 'KitchenSquare',\n",
       "       'Floor', 'HouseFloor', 'HouseYear', 'Ecology_1', 'Ecology_2',\n",
       "       'Ecology_3', 'Social_1', 'Social_2', 'Social_3', 'Healthcare_1',\n",
       "       'Helthcare_2', 'Shops_1', 'Shops_2', 'Price'],\n",
       "      dtype='object')"
      ]
     },
     "execution_count": 18,
     "metadata": {},
     "output_type": "execute_result"
    }
   ],
   "source": [
    "traindf.keys()"
   ]
  },
  {
   "cell_type": "code",
   "execution_count": 19,
   "id": "db2eeb03-3ec7-4e1b-bb4d-de42906e498e",
   "metadata": {},
   "outputs": [
    {
     "data": {
      "text/html": [
       "<div>\n",
       "<style scoped>\n",
       "    .dataframe tbody tr th:only-of-type {\n",
       "        vertical-align: middle;\n",
       "    }\n",
       "\n",
       "    .dataframe tbody tr th {\n",
       "        vertical-align: top;\n",
       "    }\n",
       "\n",
       "    .dataframe thead th {\n",
       "        text-align: right;\n",
       "    }\n",
       "</style>\n",
       "<table border=\"1\" class=\"dataframe\">\n",
       "  <thead>\n",
       "    <tr style=\"text-align: right;\">\n",
       "      <th></th>\n",
       "      <th>Id</th>\n",
       "      <th>DistrictId</th>\n",
       "      <th>Rooms</th>\n",
       "      <th>Square</th>\n",
       "      <th>LifeSquare</th>\n",
       "      <th>KitchenSquare</th>\n",
       "      <th>Floor</th>\n",
       "      <th>HouseFloor</th>\n",
       "      <th>HouseYear</th>\n",
       "      <th>Ecology_1</th>\n",
       "      <th>Social_1</th>\n",
       "      <th>Social_2</th>\n",
       "      <th>Social_3</th>\n",
       "      <th>Healthcare_1</th>\n",
       "      <th>Helthcare_2</th>\n",
       "      <th>Shops_1</th>\n",
       "      <th>Price</th>\n",
       "    </tr>\n",
       "  </thead>\n",
       "  <tbody>\n",
       "    <tr>\n",
       "      <th>count</th>\n",
       "      <td>10000.00000</td>\n",
       "      <td>10000.000000</td>\n",
       "      <td>10000.000000</td>\n",
       "      <td>10000.000000</td>\n",
       "      <td>7887.000000</td>\n",
       "      <td>10000.000000</td>\n",
       "      <td>10000.000000</td>\n",
       "      <td>10000.000000</td>\n",
       "      <td>1.000000e+04</td>\n",
       "      <td>10000.000000</td>\n",
       "      <td>10000.000000</td>\n",
       "      <td>10000.000000</td>\n",
       "      <td>10000.000000</td>\n",
       "      <td>5202.000000</td>\n",
       "      <td>10000.000000</td>\n",
       "      <td>10000.000000</td>\n",
       "      <td>10000.000000</td>\n",
       "    </tr>\n",
       "    <tr>\n",
       "      <th>mean</th>\n",
       "      <td>8383.40770</td>\n",
       "      <td>50.400800</td>\n",
       "      <td>1.890500</td>\n",
       "      <td>56.315777</td>\n",
       "      <td>37.199646</td>\n",
       "      <td>6.273300</td>\n",
       "      <td>8.526700</td>\n",
       "      <td>12.609400</td>\n",
       "      <td>3.990166e+03</td>\n",
       "      <td>0.118858</td>\n",
       "      <td>24.687000</td>\n",
       "      <td>5352.157400</td>\n",
       "      <td>8.039200</td>\n",
       "      <td>1142.904419</td>\n",
       "      <td>1.319500</td>\n",
       "      <td>4.231300</td>\n",
       "      <td>214138.859375</td>\n",
       "    </tr>\n",
       "    <tr>\n",
       "      <th>std</th>\n",
       "      <td>4859.01902</td>\n",
       "      <td>43.587592</td>\n",
       "      <td>0.839512</td>\n",
       "      <td>21.058731</td>\n",
       "      <td>86.241211</td>\n",
       "      <td>28.560917</td>\n",
       "      <td>5.241148</td>\n",
       "      <td>6.775974</td>\n",
       "      <td>2.005003e+05</td>\n",
       "      <td>0.119025</td>\n",
       "      <td>17.532614</td>\n",
       "      <td>4006.799803</td>\n",
       "      <td>23.831875</td>\n",
       "      <td>1021.517273</td>\n",
       "      <td>1.493601</td>\n",
       "      <td>4.806341</td>\n",
       "      <td>92872.289062</td>\n",
       "    </tr>\n",
       "    <tr>\n",
       "      <th>min</th>\n",
       "      <td>0.00000</td>\n",
       "      <td>0.000000</td>\n",
       "      <td>0.000000</td>\n",
       "      <td>1.136859</td>\n",
       "      <td>0.370619</td>\n",
       "      <td>0.000000</td>\n",
       "      <td>1.000000</td>\n",
       "      <td>0.000000</td>\n",
       "      <td>1.910000e+03</td>\n",
       "      <td>0.000000</td>\n",
       "      <td>0.000000</td>\n",
       "      <td>168.000000</td>\n",
       "      <td>0.000000</td>\n",
       "      <td>0.000000</td>\n",
       "      <td>0.000000</td>\n",
       "      <td>0.000000</td>\n",
       "      <td>59174.777344</td>\n",
       "    </tr>\n",
       "    <tr>\n",
       "      <th>25%</th>\n",
       "      <td>4169.50000</td>\n",
       "      <td>20.000000</td>\n",
       "      <td>1.000000</td>\n",
       "      <td>41.774879</td>\n",
       "      <td>22.769833</td>\n",
       "      <td>1.000000</td>\n",
       "      <td>4.000000</td>\n",
       "      <td>9.000000</td>\n",
       "      <td>1.974000e+03</td>\n",
       "      <td>0.017647</td>\n",
       "      <td>6.000000</td>\n",
       "      <td>1564.000000</td>\n",
       "      <td>0.000000</td>\n",
       "      <td>350.000000</td>\n",
       "      <td>0.000000</td>\n",
       "      <td>1.000000</td>\n",
       "      <td>153872.628906</td>\n",
       "    </tr>\n",
       "    <tr>\n",
       "      <th>50%</th>\n",
       "      <td>8394.50000</td>\n",
       "      <td>36.000000</td>\n",
       "      <td>2.000000</td>\n",
       "      <td>52.513309</td>\n",
       "      <td>32.781261</td>\n",
       "      <td>6.000000</td>\n",
       "      <td>7.000000</td>\n",
       "      <td>13.000000</td>\n",
       "      <td>1.977000e+03</td>\n",
       "      <td>0.075424</td>\n",
       "      <td>25.000000</td>\n",
       "      <td>5285.000000</td>\n",
       "      <td>2.000000</td>\n",
       "      <td>900.000000</td>\n",
       "      <td>1.000000</td>\n",
       "      <td>3.000000</td>\n",
       "      <td>192269.648438</td>\n",
       "    </tr>\n",
       "    <tr>\n",
       "      <th>75%</th>\n",
       "      <td>12592.50000</td>\n",
       "      <td>75.000000</td>\n",
       "      <td>2.000000</td>\n",
       "      <td>65.900627</td>\n",
       "      <td>45.128803</td>\n",
       "      <td>9.000000</td>\n",
       "      <td>12.000000</td>\n",
       "      <td>17.000000</td>\n",
       "      <td>2.001000e+03</td>\n",
       "      <td>0.195781</td>\n",
       "      <td>36.000000</td>\n",
       "      <td>7227.000000</td>\n",
       "      <td>5.000000</td>\n",
       "      <td>1548.000000</td>\n",
       "      <td>2.000000</td>\n",
       "      <td>6.000000</td>\n",
       "      <td>249135.460938</td>\n",
       "    </tr>\n",
       "    <tr>\n",
       "      <th>max</th>\n",
       "      <td>16798.00000</td>\n",
       "      <td>209.000000</td>\n",
       "      <td>19.000000</td>\n",
       "      <td>641.065186</td>\n",
       "      <td>7480.592285</td>\n",
       "      <td>2014.000000</td>\n",
       "      <td>42.000000</td>\n",
       "      <td>117.000000</td>\n",
       "      <td>2.005201e+07</td>\n",
       "      <td>0.521867</td>\n",
       "      <td>74.000000</td>\n",
       "      <td>19083.000000</td>\n",
       "      <td>141.000000</td>\n",
       "      <td>4849.000000</td>\n",
       "      <td>6.000000</td>\n",
       "      <td>23.000000</td>\n",
       "      <td>633233.437500</td>\n",
       "    </tr>\n",
       "  </tbody>\n",
       "</table>\n",
       "</div>"
      ],
      "text/plain": [
       "                Id    DistrictId         Rooms        Square   LifeSquare  \\\n",
       "count  10000.00000  10000.000000  10000.000000  10000.000000  7887.000000   \n",
       "mean    8383.40770     50.400800      1.890500     56.315777    37.199646   \n",
       "std     4859.01902     43.587592      0.839512     21.058731    86.241211   \n",
       "min        0.00000      0.000000      0.000000      1.136859     0.370619   \n",
       "25%     4169.50000     20.000000      1.000000     41.774879    22.769833   \n",
       "50%     8394.50000     36.000000      2.000000     52.513309    32.781261   \n",
       "75%    12592.50000     75.000000      2.000000     65.900627    45.128803   \n",
       "max    16798.00000    209.000000     19.000000    641.065186  7480.592285   \n",
       "\n",
       "       KitchenSquare         Floor    HouseFloor     HouseYear     Ecology_1  \\\n",
       "count   10000.000000  10000.000000  10000.000000  1.000000e+04  10000.000000   \n",
       "mean        6.273300      8.526700     12.609400  3.990166e+03      0.118858   \n",
       "std        28.560917      5.241148      6.775974  2.005003e+05      0.119025   \n",
       "min         0.000000      1.000000      0.000000  1.910000e+03      0.000000   \n",
       "25%         1.000000      4.000000      9.000000  1.974000e+03      0.017647   \n",
       "50%         6.000000      7.000000     13.000000  1.977000e+03      0.075424   \n",
       "75%         9.000000     12.000000     17.000000  2.001000e+03      0.195781   \n",
       "max      2014.000000     42.000000    117.000000  2.005201e+07      0.521867   \n",
       "\n",
       "           Social_1      Social_2      Social_3  Healthcare_1   Helthcare_2  \\\n",
       "count  10000.000000  10000.000000  10000.000000   5202.000000  10000.000000   \n",
       "mean      24.687000   5352.157400      8.039200   1142.904419      1.319500   \n",
       "std       17.532614   4006.799803     23.831875   1021.517273      1.493601   \n",
       "min        0.000000    168.000000      0.000000      0.000000      0.000000   \n",
       "25%        6.000000   1564.000000      0.000000    350.000000      0.000000   \n",
       "50%       25.000000   5285.000000      2.000000    900.000000      1.000000   \n",
       "75%       36.000000   7227.000000      5.000000   1548.000000      2.000000   \n",
       "max       74.000000  19083.000000    141.000000   4849.000000      6.000000   \n",
       "\n",
       "            Shops_1          Price  \n",
       "count  10000.000000   10000.000000  \n",
       "mean       4.231300  214138.859375  \n",
       "std        4.806341   92872.289062  \n",
       "min        0.000000   59174.777344  \n",
       "25%        1.000000  153872.628906  \n",
       "50%        3.000000  192269.648438  \n",
       "75%        6.000000  249135.460938  \n",
       "max       23.000000  633233.437500  "
      ]
     },
     "execution_count": 19,
     "metadata": {},
     "output_type": "execute_result"
    }
   ],
   "source": [
    "traindf.describe()"
   ]
  },
  {
   "cell_type": "markdown",
   "id": "9a482078-7556-43fc-8bd8-20ddc24dd576",
   "metadata": {},
   "source": [
    "2) Проанализировав данные приходим к выводу, что столбцы Id и Districtid лучше приобразовать в другой тип данных,например str, так как они не повлияют на анализ данных:"
   ]
  },
  {
   "cell_type": "code",
   "execution_count": 20,
   "id": "25538c1f-5862-4bd3-963d-24660d82f650",
   "metadata": {},
   "outputs": [],
   "source": [
    "traindf['Id'] = traindf['Id'].astype(str)\n",
    "traindf['DistrictId'] = traindf['DistrictId'].astype(str)"
   ]
  },
  {
   "cell_type": "code",
   "execution_count": 21,
   "id": "dff98126-bcc1-47ce-9ea9-1ed2a5d5010a",
   "metadata": {},
   "outputs": [
    {
     "data": {
      "text/plain": [
       "['Id', 'DistrictId', 'Ecology_2', 'Ecology_3', 'Shops_2']"
      ]
     },
     "execution_count": 21,
     "metadata": {},
     "output_type": "execute_result"
    }
   ],
   "source": [
    "traindf.select_dtypes(include='object').columns.tolist()"
   ]
  },
  {
   "cell_type": "markdown",
   "id": "cfd7486b-a91b-4147-ab69-13baffc5e3d6",
   "metadata": {},
   "source": [
    "3) Начинаем работать с данными столбца \"Rooms\":"
   ]
  },
  {
   "cell_type": "code",
   "execution_count": 22,
   "id": "09096343-03d1-41fb-b0fe-039ec9625c3e",
   "metadata": {},
   "outputs": [
    {
     "data": {
      "text/plain": [
       "2.0     3880\n",
       "1.0     3705\n",
       "3.0     2235\n",
       "4.0      150\n",
       "5.0       18\n",
       "0.0        8\n",
       "10.0       2\n",
       "6.0        1\n",
       "19.0       1\n",
       "Name: Rooms, dtype: int64"
      ]
     },
     "execution_count": 22,
     "metadata": {},
     "output_type": "execute_result"
    }
   ],
   "source": [
    "traindf['Rooms'].value_counts()"
   ]
  },
  {
   "cell_type": "markdown",
   "id": "f9f316fb-a54b-45d1-97cf-85d4ab818728",
   "metadata": {},
   "source": [
    "Проанализировав столбик указанный выше преобразовываем 0 в 1-комн.квартиру, а значения больше 6 комнат приведем к среднему:"
   ]
  },
  {
   "cell_type": "code",
   "execution_count": 23,
   "id": "03926c11-51c6-440a-b481-cd2fb18f8f1c",
   "metadata": {},
   "outputs": [],
   "source": [
    "traindf.loc[traindf['Rooms'] == 0, 'Rooms'] = 1\n",
    "traindf.loc[traindf['Rooms'] >= 7, 'Rooms'] = traindf['Rooms'].median()"
   ]
  },
  {
   "cell_type": "code",
   "execution_count": 24,
   "id": "4eeaac30-1e53-44ae-859d-f9b52788846d",
   "metadata": {},
   "outputs": [
    {
     "data": {
      "text/plain": [
       "2.0    3883\n",
       "1.0    3713\n",
       "3.0    2235\n",
       "4.0     150\n",
       "5.0      18\n",
       "6.0       1\n",
       "Name: Rooms, dtype: int64"
      ]
     },
     "execution_count": 24,
     "metadata": {},
     "output_type": "execute_result"
    }
   ],
   "source": [
    "traindf['Rooms'].value_counts()"
   ]
  },
  {
   "cell_type": "markdown",
   "id": "b47fd0e9-b51a-4107-b431-111f3c152b3d",
   "metadata": {},
   "source": [
    "Следующий столбик \"Square\":"
   ]
  },
  {
   "cell_type": "code",
   "execution_count": 25,
   "id": "8f9d2f8e-4d85-4007-b3a8-ab56e9caf709",
   "metadata": {},
   "outputs": [
    {
     "data": {
      "text/plain": [
       "count    10000.000000\n",
       "mean        56.315777\n",
       "std         21.058731\n",
       "min          1.136859\n",
       "25%         41.774879\n",
       "50%         52.513309\n",
       "75%         65.900627\n",
       "max        641.065186\n",
       "Name: Square, dtype: float64"
      ]
     },
     "execution_count": 25,
     "metadata": {},
     "output_type": "execute_result"
    }
   ],
   "source": [
    "traindf['Square'].describe()"
   ]
  },
  {
   "cell_type": "markdown",
   "id": "6fc13946-b9cd-4d93-9b18-1c723187e07e",
   "metadata": {},
   "source": [
    "С помощью .describe() видим что минимальное значение площади квартир состовляет 1.136859 м^2, что являеся нарушением СНиП 31-01-2003 ,а именно п.5.7. Поэтому согласно СНиП меняем min значения на 14 м^2 . Также приводим max значение к среднему"
   ]
  },
  {
   "cell_type": "code",
   "execution_count": 26,
   "id": "20a1b63d-8943-4ee6-92fd-0ba0a167290a",
   "metadata": {},
   "outputs": [
    {
     "data": {
      "text/plain": [
       "count    10000.000000\n",
       "mean        56.127537\n",
       "std         18.872631\n",
       "min         14.000000\n",
       "25%         41.774879\n",
       "50%         52.513309\n",
       "75%         65.879387\n",
       "max        198.930176\n",
       "Name: Square, dtype: float64"
      ]
     },
     "execution_count": 26,
     "metadata": {},
     "output_type": "execute_result"
    }
   ],
   "source": [
    "traindf.loc[traindf['Square'] <= 14, 'Square'] = 14\n",
    "traindf.loc[traindf['Square'] >= 200, 'Square'] = traindf['Square'].mean()\n",
    "traindf['Square'].describe()"
   ]
  },
  {
   "cell_type": "markdown",
   "id": "e93bba70-a684-4d9a-a314-da8823f35b85",
   "metadata": {},
   "source": [
    "Следующий столбик \"LifeSquare\" аналогично \"Square\":"
   ]
  },
  {
   "cell_type": "code",
   "execution_count": 27,
   "id": "520bb109-a78f-47a3-b90b-21ef9effd106",
   "metadata": {},
   "outputs": [
    {
     "data": {
      "text/plain": [
       "count    7887.000000\n",
       "mean       37.199646\n",
       "std        86.241211\n",
       "min         0.370619\n",
       "25%        22.769833\n",
       "50%        32.781261\n",
       "75%        45.128803\n",
       "max      7480.592285\n",
       "Name: LifeSquare, dtype: float64"
      ]
     },
     "execution_count": 27,
     "metadata": {},
     "output_type": "execute_result"
    }
   ],
   "source": [
    "traindf['LifeSquare'].describe()"
   ]
  },
  {
   "cell_type": "markdown",
   "id": "32dea64e-6761-4921-a7b0-8b044db8c087",
   "metadata": {},
   "source": [
    "С помощью .describe() видим что минимальное значение площади квартир состовляет 0.370619 м^2, что Для всей территории РФ размер минимальной жилплощади установлен в размере 6 кв. м при высоте потолка не ниже 210 см. приводим max значение к среднему"
   ]
  },
  {
   "cell_type": "code",
   "execution_count": 28,
   "id": "b0c3fea4-2876-49db-bf3a-85c41c4c095f",
   "metadata": {},
   "outputs": [],
   "source": [
    "traindf.loc[traindf['LifeSquare']<=6,'LifeSquare'] = 6\n",
    "traindf.loc[traindf['LifeSquare']>=180,'LifeSquare'] = traindf['LifeSquare'].mean()"
   ]
  },
  {
   "cell_type": "code",
   "execution_count": 29,
   "id": "8414b696-1f51-4c47-929a-88d7f18c7927",
   "metadata": {},
   "outputs": [
    {
     "data": {
      "text/plain": [
       "count    7887.000000\n",
       "mean       36.047749\n",
       "std        17.357567\n",
       "min         6.000000\n",
       "25%        22.769833\n",
       "50%        32.781261\n",
       "75%        45.086464\n",
       "max       174.837082\n",
       "Name: LifeSquare, dtype: float64"
      ]
     },
     "execution_count": 29,
     "metadata": {},
     "output_type": "execute_result"
    }
   ],
   "source": [
    "traindf['LifeSquare'].describe()"
   ]
  },
  {
   "cell_type": "markdown",
   "id": "47a4392d-2d57-41e0-b462-53780397e9d4",
   "metadata": {},
   "source": [
    "Следующий столбик \"KitchenSquare\":"
   ]
  },
  {
   "cell_type": "code",
   "execution_count": 30,
   "id": "9e9eb86a-e620-4d5f-bbda-c62018e7626c",
   "metadata": {},
   "outputs": [
    {
     "data": {
      "text/plain": [
       "count    10000.000000\n",
       "mean         6.273300\n",
       "std         28.560917\n",
       "min          0.000000\n",
       "25%          1.000000\n",
       "50%          6.000000\n",
       "75%          9.000000\n",
       "max       2014.000000\n",
       "Name: KitchenSquare, dtype: float64"
      ]
     },
     "execution_count": 30,
     "metadata": {},
     "output_type": "execute_result"
    }
   ],
   "source": [
    "traindf['KitchenSquare'].describe()"
   ]
  },
  {
   "cell_type": "markdown",
   "id": "a2d48a58-384d-48cd-afe0-fbdf6d7e9b7c",
   "metadata": {},
   "source": [
    "С помощью .describe() видим что минимальное значение площади квартир состовляет  м^2, что Для всей территории РФ размер минимальной жилплощади установлен в размере не менее 5 кв. приводим max значение к среднему"
   ]
  },
  {
   "cell_type": "code",
   "execution_count": 31,
   "id": "a0d0ac61-4a72-46c8-b8c2-90662c95d176",
   "metadata": {},
   "outputs": [],
   "source": [
    "traindf.loc[traindf['KitchenSquare'] < 5, 'KitchenSquare'] = 5\n",
    "traindf.loc[traindf['KitchenSquare'] >= 60, 'KitchenSquare'] = traindf['KitchenSquare'].mean()"
   ]
  },
  {
   "cell_type": "code",
   "execution_count": 32,
   "id": "ffd12517-dd87-419c-b6f8-f243887840a7",
   "metadata": {},
   "outputs": [
    {
     "data": {
      "text/plain": [
       "count    10000.000000\n",
       "mean         7.120723\n",
       "std          2.991570\n",
       "min          5.000000\n",
       "25%          5.000000\n",
       "50%          6.000000\n",
       "75%          9.000000\n",
       "max         58.000000\n",
       "Name: KitchenSquare, dtype: float64"
      ]
     },
     "execution_count": 32,
     "metadata": {},
     "output_type": "execute_result"
    }
   ],
   "source": [
    "traindf['KitchenSquare'].describe()"
   ]
  },
  {
   "cell_type": "markdown",
   "id": "592e9ab2-d384-4e7d-a447-46031e071682",
   "metadata": {},
   "source": [
    "Следующий столбик \"Floor\":"
   ]
  },
  {
   "cell_type": "code",
   "execution_count": 33,
   "id": "da5edb69-fa96-4ab2-ab49-59436481a56c",
   "metadata": {},
   "outputs": [
    {
     "data": {
      "text/plain": [
       "count    10000.000000\n",
       "mean         8.526700\n",
       "std          5.241148\n",
       "min          1.000000\n",
       "25%          4.000000\n",
       "50%          7.000000\n",
       "75%         12.000000\n",
       "max         42.000000\n",
       "Name: Floor, dtype: float64"
      ]
     },
     "execution_count": 33,
     "metadata": {},
     "output_type": "execute_result"
    }
   ],
   "source": [
    "traindf['Floor'].describe()"
   ]
  },
  {
   "cell_type": "code",
   "execution_count": 34,
   "id": "43083610-35d2-4d0c-95de-496ebcf6b6ee",
   "metadata": {},
   "outputs": [
    {
     "data": {
      "text/plain": [
       "4     949\n",
       "5     876\n",
       "3     872\n",
       "6     802\n",
       "7     759\n",
       "8     643\n",
       "9     604\n",
       "2     588\n",
       "10    553\n",
       "11    457\n",
       "12    438\n",
       "13    398\n",
       "14    362\n",
       "16    290\n",
       "15    287\n",
       "17    256\n",
       "1     235\n",
       "18    185\n",
       "19    121\n",
       "20     68\n",
       "21     59\n",
       "22     54\n",
       "24     53\n",
       "25     34\n",
       "23     25\n",
       "26     18\n",
       "27      5\n",
       "28      3\n",
       "32      2\n",
       "42      1\n",
       "37      1\n",
       "33      1\n",
       "31      1\n",
       "Name: Floor, dtype: int64"
      ]
     },
     "execution_count": 34,
     "metadata": {},
     "output_type": "execute_result"
    }
   ],
   "source": [
    "traindf['Floor'].value_counts()"
   ]
  },
  {
   "cell_type": "markdown",
   "id": "2ccf0f03-f286-461b-92db-61de3a189468",
   "metadata": {},
   "source": [
    "Следующий столбик \"HouseFloor\":"
   ]
  },
  {
   "cell_type": "code",
   "execution_count": 35,
   "id": "0923f5cf-6e53-45f2-86e7-a23aaedf75d8",
   "metadata": {},
   "outputs": [
    {
     "data": {
      "text/plain": [
       "count    10000.000000\n",
       "mean        12.609400\n",
       "std          6.775974\n",
       "min          0.000000\n",
       "25%          9.000000\n",
       "50%         13.000000\n",
       "75%         17.000000\n",
       "max        117.000000\n",
       "Name: HouseFloor, dtype: float64"
      ]
     },
     "execution_count": 35,
     "metadata": {},
     "output_type": "execute_result"
    }
   ],
   "source": [
    "traindf['HouseFloor'].describe()"
   ]
  },
  {
   "cell_type": "code",
   "execution_count": 36,
   "id": "304df68f-d4b0-4bf4-a888-872aa456fa18",
   "metadata": {},
   "outputs": [
    {
     "data": {
      "text/plain": [
       "17.0     2331\n",
       "9.0      1389\n",
       "12.0     1074\n",
       "5.0      1031\n",
       "14.0      625\n",
       "16.0      576\n",
       "1.0       497\n",
       "25.0      374\n",
       "22.0      343\n",
       "0.0       269\n",
       "24.0      176\n",
       "8.0       141\n",
       "10.0      135\n",
       "4.0       134\n",
       "3.0       127\n",
       "15.0      123\n",
       "19.0      108\n",
       "20.0      105\n",
       "18.0       89\n",
       "7.0        59\n",
       "6.0        58\n",
       "2.0        48\n",
       "23.0       40\n",
       "21.0       33\n",
       "11.0       28\n",
       "13.0       27\n",
       "30.0       21\n",
       "40.0        7\n",
       "27.0        6\n",
       "37.0        4\n",
       "32.0        4\n",
       "28.0        3\n",
       "39.0        2\n",
       "48.0        2\n",
       "99.0        2\n",
       "29.0        1\n",
       "44.0        1\n",
       "47.0        1\n",
       "36.0        1\n",
       "31.0        1\n",
       "38.0        1\n",
       "117.0       1\n",
       "45.0        1\n",
       "26.0        1\n",
       "Name: HouseFloor, dtype: int64"
      ]
     },
     "execution_count": 36,
     "metadata": {},
     "output_type": "execute_result"
    }
   ],
   "source": [
    "traindf['HouseFloor'].value_counts()"
   ]
  },
  {
   "cell_type": "markdown",
   "id": "23a3d300-654c-47ba-b52c-92653908d278",
   "metadata": {},
   "source": [
    "Из этих данных видим,что этажность дома отличается от этажа квартиры.Например: этажность дома максимальная 117, а одна из квартир находится на 42 этаже"
   ]
  },
  {
   "cell_type": "markdown",
   "id": "bb8a8232-a962-4cb0-b602-7fab8fb0eee8",
   "metadata": {},
   "source": [
    "!!!!!!!!Этажность дома не может быть нулевой, поэтому приводим данное значение к среднему и приводим максимальную этажность к 42этажам(В связи с тем что при использовании выражении \"traindf['HouseFloor'] >= 42\" получаем max = 40 , что не соответствует нашим условиям.Поэтомы мы подбираем ближайшее большее число чтобы максимальная этажность зданий была больше или равна 42( В нашем случае данное число 45, что соответствует max = 44)). Находим количество квартир у которых этажность дома больше этажности квартиры:"
   ]
  },
  {
   "cell_type": "code",
   "execution_count": 37,
   "id": "11cb67e7-02a8-407e-9c6c-f08a26a2e565",
   "metadata": {},
   "outputs": [
    {
     "data": {
      "text/plain": [
       "False    8849\n",
       "True     1151\n",
       "dtype: int64"
      ]
     },
     "execution_count": 37,
     "metadata": {},
     "output_type": "execute_result"
    }
   ],
   "source": [
    "traindf.loc[traindf['HouseFloor'] <= 4, 'HouseFloor'] = traindf['HouseFloor'].mean()\n",
    "traindf.loc[traindf['HouseFloor'] >= 45, 'HouseFloor'] = traindf['HouseFloor'].mean()\n",
    "(traindf['Floor'] > traindf['HouseFloor']).value_counts()"
   ]
  },
  {
   "cell_type": "code",
   "execution_count": 38,
   "id": "85836f2c-2ef1-4922-9ea0-85d557bbbc59",
   "metadata": {},
   "outputs": [
    {
     "data": {
      "text/plain": [
       "count    10000.000000\n",
       "mean        13.773280\n",
       "std          5.274522\n",
       "min          5.000000\n",
       "25%          9.000000\n",
       "50%         13.000000\n",
       "75%         17.000000\n",
       "max         44.000000\n",
       "Name: HouseFloor, dtype: float64"
      ]
     },
     "execution_count": 38,
     "metadata": {},
     "output_type": "execute_result"
    }
   ],
   "source": [
    "traindf['HouseFloor'].describe()"
   ]
  },
  {
   "cell_type": "markdown",
   "id": "1d7e8f64-fec8-48d0-a526-347d7b4330d2",
   "metadata": {},
   "source": [
    "+Следующий столбик \"HouseYear\":"
   ]
  },
  {
   "cell_type": "code",
   "execution_count": 39,
   "id": "d92d88e6-c2e4-4cb1-93f5-9fdb1e7b6afc",
   "metadata": {},
   "outputs": [
    {
     "data": {
      "text/plain": [
       "1977        2652\n",
       "2017         308\n",
       "2016         305\n",
       "2015         299\n",
       "2014         210\n",
       "            ... \n",
       "1928           1\n",
       "1947           1\n",
       "1914           1\n",
       "4968           1\n",
       "20052011       1\n",
       "Name: HouseYear, Length: 97, dtype: int64"
      ]
     },
     "execution_count": 39,
     "metadata": {},
     "output_type": "execute_result"
    }
   ],
   "source": [
    "traindf['HouseYear'].value_counts()"
   ]
  },
  {
   "cell_type": "code",
   "execution_count": 107,
   "id": "8da28fe5-cb03-4ebc-a997-a8e98360f369",
   "metadata": {},
   "outputs": [],
   "source": [
    "traindf.loc[traindf['HouseYear'] > datetime.now().year, 'HouseYear'] = traindf['HouseYear'].mean()"
   ]
  },
  {
   "cell_type": "code",
   "execution_count": 41,
   "id": "43d1f561-6746-49ee-b3cc-b2412cf6c66d",
   "metadata": {},
   "outputs": [
    {
     "data": {
      "text/plain": [
       "1977.0    2652\n",
       "2017.0     308\n",
       "2016.0     305\n",
       "2015.0     299\n",
       "2014.0     210\n",
       "          ... \n",
       "1910.0       1\n",
       "1947.0       1\n",
       "1928.0       1\n",
       "1916.0       1\n",
       "1914.0       1\n",
       "Name: HouseYear, Length: 96, dtype: int64"
      ]
     },
     "execution_count": 41,
     "metadata": {},
     "output_type": "execute_result"
    }
   ],
   "source": [
    "traindf['HouseYear'].value_counts()"
   ]
  },
  {
   "cell_type": "markdown",
   "id": "a085498c-0d3a-4cd9-a90b-5a5f92c3b48e",
   "metadata": {},
   "source": [
    "3)Следующим шагом будет поиск и обработка пропусках в наших данных"
   ]
  },
  {
   "cell_type": "code",
   "execution_count": 42,
   "id": "fd624665-e0aa-4b95-93a0-aa6d120c5c05",
   "metadata": {},
   "outputs": [
    {
     "data": {
      "text/plain": [
       "Id                  0\n",
       "DistrictId          0\n",
       "Rooms               0\n",
       "Square              0\n",
       "LifeSquare       2113\n",
       "KitchenSquare       0\n",
       "Floor               0\n",
       "HouseFloor          0\n",
       "HouseYear           0\n",
       "Ecology_1           0\n",
       "Ecology_2           0\n",
       "Ecology_3           0\n",
       "Social_1            0\n",
       "Social_2            0\n",
       "Social_3            0\n",
       "Healthcare_1     4798\n",
       "Helthcare_2         0\n",
       "Shops_1             0\n",
       "Shops_2             0\n",
       "Price               0\n",
       "dtype: int64"
      ]
     },
     "execution_count": 42,
     "metadata": {},
     "output_type": "execute_result"
    }
   ],
   "source": [
    "traindf.isna().sum()"
   ]
  },
  {
   "cell_type": "markdown",
   "id": "58d1ba95-f27d-4ed0-95a6-b3a01da430e9",
   "metadata": {},
   "source": [
    "LifeSquare:"
   ]
  },
  {
   "cell_type": "code",
   "execution_count": 43,
   "id": "0a1691ae-73da-4969-8545-8c3988906c76",
   "metadata": {},
   "outputs": [],
   "source": [
    "traindf['LifeSquare_nan'] = traindf['LifeSquare'].isna() * 1\n",
    "\n",
    "condition = (traindf['LifeSquare'].isna()) \\\n",
    "             & (~traindf['Square'].isna()) \\\n",
    "             & (~traindf['KitchenSquare'].isna())\n",
    "        \n",
    "traindf.loc[condition, 'LifeSquare'] = traindf.loc[condition, 'Square'] \\\n",
    "                                            - traindf.loc[condition, 'KitchenSquare'] - 5"
   ]
  },
  {
   "cell_type": "markdown",
   "id": "ff7bcd76-9478-4955-9777-7914a411af36",
   "metadata": {},
   "source": [
    "Healthcare_1 "
   ]
  },
  {
   "cell_type": "code",
   "execution_count": 44,
   "id": "35bc2c7e-c87e-41a7-a910-782d0c51c2fe",
   "metadata": {},
   "outputs": [
    {
     "data": {
      "text/plain": [
       "count    5202.000000\n",
       "mean     1142.904419\n",
       "std      1021.517273\n",
       "min         0.000000\n",
       "25%       350.000000\n",
       "50%       900.000000\n",
       "75%      1548.000000\n",
       "max      4849.000000\n",
       "Name: Healthcare_1, dtype: float64"
      ]
     },
     "execution_count": 44,
     "metadata": {},
     "output_type": "execute_result"
    }
   ],
   "source": [
    "traindf['Healthcare_1'].describe()"
   ]
  },
  {
   "cell_type": "markdown",
   "id": "ddca3f06-c0ee-426a-b171-3d104cc9a11c",
   "metadata": {},
   "source": [
    "traindf['Healthcare_1'] = traindf['Healthcare_1'].isna() * 1\n",
    "\n",
    "condition = traindf['Healthcare_1'].mean()\n",
    " \n",
    "traindf.loc[condition, 'Healthcare_1'] = traindf['Healthcare_1'].mean() "
   ]
  },
  {
   "cell_type": "code",
   "execution_count": 45,
   "id": "d803bef4-2acf-4ac3-a7c0-1632fe6465f1",
   "metadata": {},
   "outputs": [
    {
     "data": {
      "text/plain": [
       "count    5202.000000\n",
       "mean     1142.904419\n",
       "std      1021.517273\n",
       "min         0.000000\n",
       "25%       350.000000\n",
       "50%       900.000000\n",
       "75%      1548.000000\n",
       "max      4849.000000\n",
       "Name: Healthcare_1, dtype: float64"
      ]
     },
     "execution_count": 45,
     "metadata": {},
     "output_type": "execute_result"
    }
   ],
   "source": [
    "traindf['Healthcare_1'].describe()"
   ]
  },
  {
   "cell_type": "code",
   "execution_count": 46,
   "id": "3081dccc-b297-43a8-abd9-55a98ea11b4f",
   "metadata": {},
   "outputs": [],
   "source": [
    "traindf.loc[traindf['Healthcare_1'] == \"NaN\", 'Healthcare_1'] = traindf['Healthcare_1'].mean()"
   ]
  },
  {
   "cell_type": "code",
   "execution_count": 47,
   "id": "b5abbd44-05a7-4c4e-8705-5b79e4b8e8ee",
   "metadata": {},
   "outputs": [
    {
     "data": {
      "text/plain": [
       "count    5202.000000\n",
       "mean     1142.904419\n",
       "std      1021.517273\n",
       "min         0.000000\n",
       "25%       350.000000\n",
       "50%       900.000000\n",
       "75%      1548.000000\n",
       "max      4849.000000\n",
       "Name: Healthcare_1, dtype: float64"
      ]
     },
     "execution_count": 47,
     "metadata": {},
     "output_type": "execute_result"
    }
   ],
   "source": [
    "traindf['Healthcare_1'].describe()"
   ]
  },
  {
   "cell_type": "code",
   "execution_count": 48,
   "id": "6e0c35c8-c132-468b-b077-41a660fcd61f",
   "metadata": {},
   "outputs": [
    {
     "data": {
      "text/plain": [
       "Healthcare_1  Helthcare_2  Social_1  Social_2  Social_3\n",
       "540.0         0            5         1564      0           511\n",
       "1046.0        3            22        6398      141         245\n",
       "30.0          2            25        5648      1           202\n",
       "750.0         2            34        7065      1           163\n",
       "229.0         1            34        7759      0           148\n",
       "                                                          ... \n",
       "32.0          0            8         2423      1            12\n",
       "1815.0        2            16        3681      73           10\n",
       "562.0         1            8         1423      37            3\n",
       "35.0          0            3         662       0             2\n",
       "0.0           0            2         528       0             1\n",
       "Length: 84, dtype: int64"
      ]
     },
     "execution_count": 48,
     "metadata": {},
     "output_type": "execute_result"
    }
   ],
   "source": [
    "traindf[['Healthcare_1', 'Helthcare_2', 'Social_1', 'Social_2', 'Social_3']].value_counts()"
   ]
  },
  {
   "cell_type": "code",
   "execution_count": 53,
   "id": "973f353d-9b78-4e91-b9f9-479466f5d7bb",
   "metadata": {},
   "outputs": [
    {
     "data": {
      "text/plain": [
       "DistrictId  Healthcare_1\n",
       "6           540.0           511\n",
       "30          1046.0          228\n",
       "9           30.0            202\n",
       "53          229.0           146\n",
       "52          750.0           143\n",
       "                           ... \n",
       "69          620.0             1\n",
       "43          628.0             1\n",
       "182         2890.0            1\n",
       "181         4702.0            1\n",
       "59          620.0             1\n",
       "Length: 285, dtype: int64"
      ]
     },
     "execution_count": 53,
     "metadata": {},
     "output_type": "execute_result"
    }
   ],
   "source": [
    "traindf[['DistrictId','Healthcare_1']].value_counts()"
   ]
  },
  {
   "cell_type": "code",
   "execution_count": 55,
   "id": "a045e83c-6e8f-4837-906a-a3591aa22905",
   "metadata": {},
   "outputs": [],
   "source": [
    "traindf['Healthcare_1_nan'] = traindf['Healthcare_1'].isna() * 1\n",
    "condition = (traindf['Healthcare_1'].isna()) \\\n",
    "             & (~traindf['DistrictId'].isna()) \n",
    "        \n",
    "traindf.loc[condition, 'Healthcare_1'] = traindf.loc[condition, 'Square'].mean()"
   ]
  },
  {
   "cell_type": "code",
   "execution_count": 56,
   "id": "0f87ddbd-3286-40f6-b300-921d92aa2576",
   "metadata": {},
   "outputs": [
    {
     "data": {
      "text/plain": [
       "count    10000.000000\n",
       "mean       621.861877\n",
       "std        914.959961\n",
       "min          0.000000\n",
       "25%         56.946541\n",
       "50%         56.946541\n",
       "75%        990.000000\n",
       "max       4849.000000\n",
       "Name: Healthcare_1, dtype: float64"
      ]
     },
     "execution_count": 56,
     "metadata": {},
     "output_type": "execute_result"
    }
   ],
   "source": [
    "traindf['Healthcare_1'].describe()"
   ]
  },
  {
   "cell_type": "markdown",
   "id": "448d90b4-0c48-4acf-97ab-120878455ef5",
   "metadata": {},
   "source": [
    "Проверяем наш датафрейм trainfd  на пропуски:"
   ]
  },
  {
   "cell_type": "code",
   "execution_count": 57,
   "id": "f1026957-2dd5-4876-84d3-380815dc7434",
   "metadata": {},
   "outputs": [
    {
     "data": {
      "text/plain": [
       "Id                  0\n",
       "DistrictId          0\n",
       "Rooms               0\n",
       "Square              0\n",
       "LifeSquare          0\n",
       "KitchenSquare       0\n",
       "Floor               0\n",
       "HouseFloor          0\n",
       "HouseYear           0\n",
       "Ecology_1           0\n",
       "Ecology_2           0\n",
       "Ecology_3           0\n",
       "Social_1            0\n",
       "Social_2            0\n",
       "Social_3            0\n",
       "Healthcare_1        0\n",
       "Helthcare_2         0\n",
       "Shops_1             0\n",
       "Shops_2             0\n",
       "Price               0\n",
       "LifeSquare_nan      0\n",
       "Healthcare_1_nan    0\n",
       "dtype: int64"
      ]
     },
     "execution_count": 57,
     "metadata": {},
     "output_type": "execute_result"
    }
   ],
   "source": [
    "traindf.isna().sum()"
   ]
  },
  {
   "cell_type": "markdown",
   "id": "31561d70-d1e3-4098-9ca9-d90e467fec65",
   "metadata": {},
   "source": [
    "Ударяем вспомогательные столики LifeSquare_nan и Healthcare_1_nan"
   ]
  },
  {
   "cell_type": "code",
   "execution_count": 62,
   "id": "73b477e3-ac22-4ff4-b8ba-5facc637c10f",
   "metadata": {},
   "outputs": [],
   "source": [
    "traindf.drop('Healthcare_1_nan', axis=1, inplace=True)\n",
    "traindf.drop('LifeSquare_nan', axis=1, inplace=True)"
   ]
  },
  {
   "cell_type": "code",
   "execution_count": 63,
   "id": "cd5770c0-6c9b-42b7-80a1-1ec61c09b7bf",
   "metadata": {},
   "outputs": [
    {
     "data": {
      "text/plain": [
       "Id               0\n",
       "DistrictId       0\n",
       "Rooms            0\n",
       "Square           0\n",
       "LifeSquare       0\n",
       "KitchenSquare    0\n",
       "Floor            0\n",
       "HouseFloor       0\n",
       "HouseYear        0\n",
       "Ecology_1        0\n",
       "Ecology_2        0\n",
       "Ecology_3        0\n",
       "Social_1         0\n",
       "Social_2         0\n",
       "Social_3         0\n",
       "Healthcare_1     0\n",
       "Helthcare_2      0\n",
       "Shops_1          0\n",
       "Shops_2          0\n",
       "Price            0\n",
       "dtype: int64"
      ]
     },
     "execution_count": 63,
     "metadata": {},
     "output_type": "execute_result"
    }
   ],
   "source": [
    "traindf.isna().sum()"
   ]
  },
  {
   "cell_type": "markdown",
   "id": "dfd26c13-eb7a-4354-a163-518783f980c9",
   "metadata": {},
   "source": [
    "4) Создаём класс DataPreprocessing для дальнейшей оптимизации нашего процесса:"
   ]
  },
  {
   "cell_type": "code",
   "execution_count": 126,
   "id": "c968c10a-7a5a-4ae7-b9cd-99ebbe2bdb2b",
   "metadata": {},
   "outputs": [],
   "source": [
    "class DataPreprocessing:\n",
    "    \"\"\"Подготовка исходных данных\"\"\"\n",
    "\n",
    "    def __init__(self):\n",
    "        \"\"\"Параметры класса\"\"\"\n",
    "        self.means = None\n",
    "        \n",
    "    def fit(self, X):\n",
    "        \"\"\"Сохранение статистик\"\"\"       \n",
    "        # Расчет среднего\n",
    "        self.means = X.mean()\n",
    "    \n",
    "    def transform(self, X):\n",
    "        \"\"\"Трансформация данных\"\"\"\n",
    "\n",
    "        # Rooms !!!!!!!!!!!\n",
    "        X.loc[X['Rooms'] == 0, 'Rooms'] = 1\n",
    "        X.loc[X['Rooms'] >= 7, 'Rooms'] = self.means['Rooms']\n",
    "        \n",
    "        # KitchenSquare !!!!!!!!!!!\n",
    "        X.loc[X['KitchenSquare'] < 5, 'KitchenSquare'] = 5\n",
    "        X.loc[X['KitchenSquare'] >= 60, 'KitchenSquare'] = self.means['KitchenSquare']\n",
    "        \n",
    "        # HouseFloor, Floor !!!!!!!!!!!\n",
    "        X.loc[X['HouseFloor'] <= 4, 'HouseFloor'] = self.means['HouseFloor']\n",
    "        X.loc[X['HouseFloor'] >= 45, 'HouseFloor'] = self.means['HouseFloor']\n",
    "        \n",
    "        # HouseYear !!!!!!!!!!!   \n",
    "        X.loc[X['HouseYear'] > datetime.now().year, 'HouseYear'] = self.means['HouseYear']\n",
    "        \n",
    "        # Healthcare_1 !!!!!!!!!!!\n",
    "        X['Healthcare_1_nan'] = X['Healthcare_1'].isna() * 1\n",
    "        condition = (X['Healthcare_1'].isna()) \\\n",
    "                     & (~X['DistrictId'].isna()) \n",
    "        \n",
    "        X.loc[condition, 'Healthcare_1'] = X.loc[condition, 'Square'].mean()\n",
    "            \n",
    "        # LifeSquare !!!!!!!!!!!\n",
    "        X['LifeSquare_nan'] = X['LifeSquare'].isna() * 1\n",
    "        condition = (X['LifeSquare'].isna()) & \\\n",
    "                      (~X['Square'].isna()) & \\\n",
    "                      (~X['KitchenSquare'].isna())\n",
    "        \n",
    "        X.loc[condition, 'LifeSquare'] = X.loc[condition, 'Square'] - X.loc[condition, 'KitchenSquare'] - 5\n",
    "        \n",
    "        X.drop('Ecology_2', axis=1, inplace=True)\n",
    "        X.drop('Ecology_3', axis=1, inplace=True)\n",
    "        X.drop('Shops_2', axis=1, inplace=True)\n",
    "        \n",
    "        X.fillna(self.means, inplace=True)\n",
    "        \n",
    "        return X"
   ]
  },
  {
   "cell_type": "code",
   "execution_count": 128,
   "id": "d0b2be1f-88fd-4343-a3b3-e7b1c52c5b6a",
   "metadata": {},
   "outputs": [],
   "source": [
    "target_name = 'Price'"
   ]
  },
  {
   "cell_type": "markdown",
   "id": "a95a68a4-9725-4ee7-a129-f4e374c2c918",
   "metadata": {},
   "source": [
    "5) Разбиваем на тренировочные,валидационные и тестовые модели"
   ]
  },
  {
   "cell_type": "code",
   "execution_count": 129,
   "id": "fc2c771d-5bef-474e-84ee-ec9eb05b1dbd",
   "metadata": {},
   "outputs": [],
   "source": [
    "testdf = pd.read_csv('test.csv')\n",
    "traindf = pd.read_csv('train.csv')\n",
    "\n",
    "X = traindf.drop(columns=target_name)\n",
    "y = traindf[target_name]"
   ]
  },
  {
   "cell_type": "code",
   "execution_count": 130,
   "id": "656ae51a-0865-4d95-92a4-35914110c0c8",
   "metadata": {},
   "outputs": [],
   "source": [
    "X_train, X_valid, y_train, y_valid = train_test_split(X, y, test_size=0.33, shuffle=True, random_state=21)"
   ]
  },
  {
   "cell_type": "code",
   "execution_count": 131,
   "id": "8f87c963-5dac-4c67-8e42-63966be2feb3",
   "metadata": {},
   "outputs": [
    {
     "data": {
      "text/plain": [
       "((6700, 18), (3300, 18), (5000, 18))"
      ]
     },
     "execution_count": 131,
     "metadata": {},
     "output_type": "execute_result"
    }
   ],
   "source": [
    "preprocessor = DataPreprocessing()\n",
    "preprocessor.fit(X_train)\n",
    "\n",
    "X_train = preprocessor.transform(X_train)\n",
    "X_valid = preprocessor.transform(X_valid)\n",
    "testdf = preprocessor.transform(testdf)\n",
    "\n",
    "X_train.shape, X_valid.shape, testdf.shape"
   ]
  },
  {
   "cell_type": "markdown",
   "id": "b2e3de36-95ef-4df7-b651-c8bbc49b1e2b",
   "metadata": {},
   "source": [
    "6) Построение модели"
   ]
  },
  {
   "cell_type": "code",
   "execution_count": 137,
   "id": "25e01d6f-65c1-4f2e-ac36-b075522b713e",
   "metadata": {},
   "outputs": [
    {
     "data": {
      "text/plain": [
       "RandomForestRegressor(random_state=21)"
      ]
     },
     "execution_count": 137,
     "metadata": {},
     "output_type": "execute_result"
    }
   ],
   "source": [
    "rf_model = RandomForestRegressor(random_state=21, criterion='mse')\n",
    "rf_model.fit(X_train, y_train)"
   ]
  },
  {
   "cell_type": "code",
   "execution_count": 150,
   "id": "3e391db6-2c50-434c-9f08-66106aef6d87",
   "metadata": {},
   "outputs": [
    {
     "name": "stdout",
     "output_type": "stream",
     "text": [
      "Train R2:\t0.959\n",
      "Test R2:\t0.734\n"
     ]
    },
    {
     "data": {
      "image/png": "[encoded data removed]",
      "text/plain": [
       "<Figure size 1296x720 with 2 Axes>"
      ]
     },
     "metadata": {
      "needs_background": "light"
     },
     "output_type": "display_data"
    }
   ],
   "source": [
    "y_train_preds = rf_model.predict(X_train)\n",
    "y_test_preds = rf_model.predict(X_valid)\n",
    "\n",
    "evaluate_preds(y_train, y_train_preds, y_valid, y_test_preds)"
   ]
  },
  {
   "cell_type": "markdown",
   "id": "813e0046-8fdb-45db-b914-450e32b54eb7",
   "metadata": {},
   "source": [
    "7) Кросс-валидация данных"
   ]
  },
  {
   "cell_type": "code",
   "execution_count": 160,
   "id": "5b5762c2-690f-463f-b402-424c5de6e482",
   "metadata": {},
   "outputs": [
    {
     "data": {
      "text/plain": [
       "array([0.72271107, 0.66063141, 0.71405835])"
      ]
     },
     "execution_count": 160,
     "metadata": {},
     "output_type": "execute_result"
    }
   ],
   "source": [
    "cv_score = cross_val_score(rf_model, X_train, y_train, scoring='r2', cv=KFold(n_splits=3, shuffle=True, random_state=21))\n",
    "cv_score"
   ]
  },
  {
   "cell_type": "code",
   "execution_count": 157,
   "id": "6fe04b2a-6620-4f86-bf45-494001d1db4f",
   "metadata": {},
   "outputs": [
    {
     "data": {
      "text/plain": [
       "0.6991336112379337"
      ]
     },
     "execution_count": 157,
     "metadata": {},
     "output_type": "execute_result"
    }
   ],
   "source": [
    "cv_score.mean()"
   ]
  },
  {
   "cell_type": "code",
   "execution_count": 165,
   "id": "0ce53749-f0af-442c-b313-8d59136011b2",
   "metadata": {},
   "outputs": [
    {
     "data": {
      "text/html": [
       "<div>\n",
       "<style scoped>\n",
       "    .dataframe tbody tr th:only-of-type {\n",
       "        vertical-align: middle;\n",
       "    }\n",
       "\n",
       "    .dataframe tbody tr th {\n",
       "        vertical-align: top;\n",
       "    }\n",
       "\n",
       "    .dataframe thead th {\n",
       "        text-align: right;\n",
       "    }\n",
       "</style>\n",
       "<table border=\"1\" class=\"dataframe\">\n",
       "  <thead>\n",
       "    <tr style=\"text-align: right;\">\n",
       "      <th></th>\n",
       "      <th>feature_name</th>\n",
       "      <th>importance</th>\n",
       "    </tr>\n",
       "  </thead>\n",
       "  <tbody>\n",
       "    <tr>\n",
       "      <th>3</th>\n",
       "      <td>Square</td>\n",
       "      <td>0.374574</td>\n",
       "    </tr>\n",
       "    <tr>\n",
       "      <th>10</th>\n",
       "      <td>Social_1</td>\n",
       "      <td>0.098039</td>\n",
       "    </tr>\n",
       "    <tr>\n",
       "      <th>11</th>\n",
       "      <td>Social_2</td>\n",
       "      <td>0.096546</td>\n",
       "    </tr>\n",
       "    <tr>\n",
       "      <th>2</th>\n",
       "      <td>Rooms</td>\n",
       "      <td>0.082274</td>\n",
       "    </tr>\n",
       "    <tr>\n",
       "      <th>12</th>\n",
       "      <td>Social_3</td>\n",
       "      <td>0.050632</td>\n",
       "    </tr>\n",
       "    <tr>\n",
       "      <th>1</th>\n",
       "      <td>DistrictId</td>\n",
       "      <td>0.048301</td>\n",
       "    </tr>\n",
       "    <tr>\n",
       "      <th>4</th>\n",
       "      <td>LifeSquare</td>\n",
       "      <td>0.035991</td>\n",
       "    </tr>\n",
       "    <tr>\n",
       "      <th>9</th>\n",
       "      <td>Ecology_1</td>\n",
       "      <td>0.035691</td>\n",
       "    </tr>\n",
       "    <tr>\n",
       "      <th>8</th>\n",
       "      <td>HouseYear</td>\n",
       "      <td>0.034404</td>\n",
       "    </tr>\n",
       "    <tr>\n",
       "      <th>6</th>\n",
       "      <td>Floor</td>\n",
       "      <td>0.025377</td>\n",
       "    </tr>\n",
       "    <tr>\n",
       "      <th>0</th>\n",
       "      <td>Id</td>\n",
       "      <td>0.025249</td>\n",
       "    </tr>\n",
       "    <tr>\n",
       "      <th>13</th>\n",
       "      <td>Healthcare_1</td>\n",
       "      <td>0.024321</td>\n",
       "    </tr>\n",
       "    <tr>\n",
       "      <th>5</th>\n",
       "      <td>KitchenSquare</td>\n",
       "      <td>0.021676</td>\n",
       "    </tr>\n",
       "    <tr>\n",
       "      <th>7</th>\n",
       "      <td>HouseFloor</td>\n",
       "      <td>0.020812</td>\n",
       "    </tr>\n",
       "    <tr>\n",
       "      <th>15</th>\n",
       "      <td>Shops_1</td>\n",
       "      <td>0.016916</td>\n",
       "    </tr>\n",
       "    <tr>\n",
       "      <th>14</th>\n",
       "      <td>Helthcare_2</td>\n",
       "      <td>0.006381</td>\n",
       "    </tr>\n",
       "    <tr>\n",
       "      <th>16</th>\n",
       "      <td>Healthcare_1_nan</td>\n",
       "      <td>0.001678</td>\n",
       "    </tr>\n",
       "    <tr>\n",
       "      <th>17</th>\n",
       "      <td>LifeSquare_nan</td>\n",
       "      <td>0.001140</td>\n",
       "    </tr>\n",
       "  </tbody>\n",
       "</table>\n",
       "</div>"
      ],
      "text/plain": [
       "        feature_name  importance\n",
       "3             Square    0.374574\n",
       "10          Social_1    0.098039\n",
       "11          Social_2    0.096546\n",
       "2              Rooms    0.082274\n",
       "12          Social_3    0.050632\n",
       "1         DistrictId    0.048301\n",
       "4         LifeSquare    0.035991\n",
       "9          Ecology_1    0.035691\n",
       "8          HouseYear    0.034404\n",
       "6              Floor    0.025377\n",
       "0                 Id    0.025249\n",
       "13      Healthcare_1    0.024321\n",
       "5      KitchenSquare    0.021676\n",
       "7         HouseFloor    0.020812\n",
       "15           Shops_1    0.016916\n",
       "14       Helthcare_2    0.006381\n",
       "16  Healthcare_1_nan    0.001678\n",
       "17    LifeSquare_nan    0.001140"
      ]
     },
     "execution_count": 165,
     "metadata": {},
     "output_type": "execute_result"
    }
   ],
   "source": [
    "feature_importances = pd.DataFrame(zip(X_train.columns, rf_model.feature_importances_), \n",
    "                                   columns=['feature_name', 'importance'])\n",
    "\n",
    "feature_importances.sort_values(by='importance', ascending=False)"
   ]
  },
  {
   "cell_type": "markdown",
   "id": "2e2bc811-8ea3-4906-9a92-cb70b5c084d1",
   "metadata": {},
   "source": [
    "По результатам отображения важности параметров нашего датасета, делаем вывод что ни один из параметр не будет отброшен (так как важность 0 и более 50 отсутствуют)"
   ]
  },
  {
   "cell_type": "markdown",
   "id": "c8caba17-5cf6-4757-bbfa-ab50f300ee41",
   "metadata": {},
   "source": [
    "8) Прогнозирование на тестовом датасете"
   ]
  },
  {
   "cell_type": "code",
   "execution_count": 167,
   "id": "1c0d536c-3040-4a66-9ddf-343aa14db075",
   "metadata": {},
   "outputs": [
    {
     "data": {
      "text/plain": [
       "(5000, 18)"
      ]
     },
     "execution_count": 167,
     "metadata": {},
     "output_type": "execute_result"
    }
   ],
   "source": [
    "testdf.shape"
   ]
  },
  {
   "cell_type": "code",
   "execution_count": 168,
   "id": "081c9898-2319-40aa-99a6-12f191ed6597",
   "metadata": {},
   "outputs": [
    {
     "data": {
      "text/html": [
       "<div>\n",
       "<style scoped>\n",
       "    .dataframe tbody tr th:only-of-type {\n",
       "        vertical-align: middle;\n",
       "    }\n",
       "\n",
       "    .dataframe tbody tr th {\n",
       "        vertical-align: top;\n",
       "    }\n",
       "\n",
       "    .dataframe thead th {\n",
       "        text-align: right;\n",
       "    }\n",
       "</style>\n",
       "<table border=\"1\" class=\"dataframe\">\n",
       "  <thead>\n",
       "    <tr style=\"text-align: right;\">\n",
       "      <th></th>\n",
       "      <th>Id</th>\n",
       "      <th>DistrictId</th>\n",
       "      <th>Rooms</th>\n",
       "      <th>Square</th>\n",
       "      <th>LifeSquare</th>\n",
       "      <th>KitchenSquare</th>\n",
       "      <th>Floor</th>\n",
       "      <th>HouseFloor</th>\n",
       "      <th>HouseYear</th>\n",
       "      <th>Ecology_1</th>\n",
       "      <th>Social_1</th>\n",
       "      <th>Social_2</th>\n",
       "      <th>Social_3</th>\n",
       "      <th>Healthcare_1</th>\n",
       "      <th>Helthcare_2</th>\n",
       "      <th>Shops_1</th>\n",
       "      <th>Healthcare_1_nan</th>\n",
       "      <th>LifeSquare_nan</th>\n",
       "    </tr>\n",
       "  </thead>\n",
       "  <tbody>\n",
       "    <tr>\n",
       "      <th>0</th>\n",
       "      <td>4567</td>\n",
       "      <td>44</td>\n",
       "      <td>1.0</td>\n",
       "      <td>36.847630</td>\n",
       "      <td>19.094182</td>\n",
       "      <td>5.0</td>\n",
       "      <td>5</td>\n",
       "      <td>9.000000</td>\n",
       "      <td>1970.0</td>\n",
       "      <td>0.036122</td>\n",
       "      <td>24</td>\n",
       "      <td>4378</td>\n",
       "      <td>0</td>\n",
       "      <td>1036.000000</td>\n",
       "      <td>1</td>\n",
       "      <td>1</td>\n",
       "      <td>0</td>\n",
       "      <td>0</td>\n",
       "    </tr>\n",
       "    <tr>\n",
       "      <th>1</th>\n",
       "      <td>5925</td>\n",
       "      <td>62</td>\n",
       "      <td>1.0</td>\n",
       "      <td>42.493907</td>\n",
       "      <td>42.568133</td>\n",
       "      <td>10.0</td>\n",
       "      <td>7</td>\n",
       "      <td>17.000000</td>\n",
       "      <td>2017.0</td>\n",
       "      <td>0.072158</td>\n",
       "      <td>2</td>\n",
       "      <td>629</td>\n",
       "      <td>1</td>\n",
       "      <td>57.915904</td>\n",
       "      <td>0</td>\n",
       "      <td>0</td>\n",
       "      <td>1</td>\n",
       "      <td>0</td>\n",
       "    </tr>\n",
       "    <tr>\n",
       "      <th>2</th>\n",
       "      <td>960</td>\n",
       "      <td>27</td>\n",
       "      <td>2.0</td>\n",
       "      <td>59.463678</td>\n",
       "      <td>45.463678</td>\n",
       "      <td>9.0</td>\n",
       "      <td>19</td>\n",
       "      <td>19.000000</td>\n",
       "      <td>1977.0</td>\n",
       "      <td>0.211401</td>\n",
       "      <td>9</td>\n",
       "      <td>1892</td>\n",
       "      <td>0</td>\n",
       "      <td>57.915904</td>\n",
       "      <td>0</td>\n",
       "      <td>1</td>\n",
       "      <td>1</td>\n",
       "      <td>1</td>\n",
       "    </tr>\n",
       "    <tr>\n",
       "      <th>3</th>\n",
       "      <td>3848</td>\n",
       "      <td>23</td>\n",
       "      <td>3.0</td>\n",
       "      <td>49.646030</td>\n",
       "      <td>33.893825</td>\n",
       "      <td>6.0</td>\n",
       "      <td>2</td>\n",
       "      <td>12.587313</td>\n",
       "      <td>1965.0</td>\n",
       "      <td>0.014073</td>\n",
       "      <td>2</td>\n",
       "      <td>475</td>\n",
       "      <td>0</td>\n",
       "      <td>57.915904</td>\n",
       "      <td>0</td>\n",
       "      <td>0</td>\n",
       "      <td>1</td>\n",
       "      <td>0</td>\n",
       "    </tr>\n",
       "    <tr>\n",
       "      <th>4</th>\n",
       "      <td>746</td>\n",
       "      <td>74</td>\n",
       "      <td>1.0</td>\n",
       "      <td>53.837056</td>\n",
       "      <td>43.837056</td>\n",
       "      <td>5.0</td>\n",
       "      <td>8</td>\n",
       "      <td>17.000000</td>\n",
       "      <td>1977.0</td>\n",
       "      <td>0.309479</td>\n",
       "      <td>35</td>\n",
       "      <td>7715</td>\n",
       "      <td>4</td>\n",
       "      <td>990.000000</td>\n",
       "      <td>0</td>\n",
       "      <td>6</td>\n",
       "      <td>0</td>\n",
       "      <td>1</td>\n",
       "    </tr>\n",
       "    <tr>\n",
       "      <th>...</th>\n",
       "      <td>...</td>\n",
       "      <td>...</td>\n",
       "      <td>...</td>\n",
       "      <td>...</td>\n",
       "      <td>...</td>\n",
       "      <td>...</td>\n",
       "      <td>...</td>\n",
       "      <td>...</td>\n",
       "      <td>...</td>\n",
       "      <td>...</td>\n",
       "      <td>...</td>\n",
       "      <td>...</td>\n",
       "      <td>...</td>\n",
       "      <td>...</td>\n",
       "      <td>...</td>\n",
       "      <td>...</td>\n",
       "      <td>...</td>\n",
       "      <td>...</td>\n",
       "    </tr>\n",
       "    <tr>\n",
       "      <th>4995</th>\n",
       "      <td>10379</td>\n",
       "      <td>29</td>\n",
       "      <td>2.0</td>\n",
       "      <td>43.177521</td>\n",
       "      <td>30.339945</td>\n",
       "      <td>5.0</td>\n",
       "      <td>6</td>\n",
       "      <td>5.000000</td>\n",
       "      <td>1962.0</td>\n",
       "      <td>0.069660</td>\n",
       "      <td>31</td>\n",
       "      <td>6119</td>\n",
       "      <td>4</td>\n",
       "      <td>57.915904</td>\n",
       "      <td>1</td>\n",
       "      <td>2</td>\n",
       "      <td>1</td>\n",
       "      <td>0</td>\n",
       "    </tr>\n",
       "    <tr>\n",
       "      <th>4996</th>\n",
       "      <td>16138</td>\n",
       "      <td>38</td>\n",
       "      <td>3.0</td>\n",
       "      <td>93.698122</td>\n",
       "      <td>94.521465</td>\n",
       "      <td>10.0</td>\n",
       "      <td>21</td>\n",
       "      <td>27.000000</td>\n",
       "      <td>2018.0</td>\n",
       "      <td>0.060753</td>\n",
       "      <td>15</td>\n",
       "      <td>2787</td>\n",
       "      <td>2</td>\n",
       "      <td>520.000000</td>\n",
       "      <td>0</td>\n",
       "      <td>7</td>\n",
       "      <td>0</td>\n",
       "      <td>0</td>\n",
       "    </tr>\n",
       "    <tr>\n",
       "      <th>4997</th>\n",
       "      <td>3912</td>\n",
       "      <td>101</td>\n",
       "      <td>1.0</td>\n",
       "      <td>33.656723</td>\n",
       "      <td>19.003259</td>\n",
       "      <td>5.0</td>\n",
       "      <td>2</td>\n",
       "      <td>5.000000</td>\n",
       "      <td>1966.0</td>\n",
       "      <td>0.038693</td>\n",
       "      <td>28</td>\n",
       "      <td>6533</td>\n",
       "      <td>1</td>\n",
       "      <td>1015.000000</td>\n",
       "      <td>2</td>\n",
       "      <td>5</td>\n",
       "      <td>0</td>\n",
       "      <td>0</td>\n",
       "    </tr>\n",
       "    <tr>\n",
       "      <th>4998</th>\n",
       "      <td>5722</td>\n",
       "      <td>10</td>\n",
       "      <td>1.0</td>\n",
       "      <td>38.635155</td>\n",
       "      <td>20.976257</td>\n",
       "      <td>9.0</td>\n",
       "      <td>8</td>\n",
       "      <td>14.000000</td>\n",
       "      <td>1970.0</td>\n",
       "      <td>0.089040</td>\n",
       "      <td>33</td>\n",
       "      <td>7976</td>\n",
       "      <td>5</td>\n",
       "      <td>57.915904</td>\n",
       "      <td>0</td>\n",
       "      <td>11</td>\n",
       "      <td>1</td>\n",
       "      <td>0</td>\n",
       "    </tr>\n",
       "    <tr>\n",
       "      <th>4999</th>\n",
       "      <td>11004</td>\n",
       "      <td>21</td>\n",
       "      <td>2.0</td>\n",
       "      <td>67.122742</td>\n",
       "      <td>33.944344</td>\n",
       "      <td>13.0</td>\n",
       "      <td>9</td>\n",
       "      <td>17.000000</td>\n",
       "      <td>2009.0</td>\n",
       "      <td>0.194489</td>\n",
       "      <td>47</td>\n",
       "      <td>8004</td>\n",
       "      <td>3</td>\n",
       "      <td>125.000000</td>\n",
       "      <td>3</td>\n",
       "      <td>5</td>\n",
       "      <td>0</td>\n",
       "      <td>0</td>\n",
       "    </tr>\n",
       "  </tbody>\n",
       "</table>\n",
       "<p>5000 rows × 18 columns</p>\n",
       "</div>"
      ],
      "text/plain": [
       "         Id  DistrictId  Rooms     Square  LifeSquare  KitchenSquare  Floor  \\\n",
       "0      4567          44    1.0  36.847630   19.094182            5.0      5   \n",
       "1      5925          62    1.0  42.493907   42.568133           10.0      7   \n",
       "2       960          27    2.0  59.463678   45.463678            9.0     19   \n",
       "3      3848          23    3.0  49.646030   33.893825            6.0      2   \n",
       "4       746          74    1.0  53.837056   43.837056            5.0      8   \n",
       "...     ...         ...    ...        ...         ...            ...    ...   \n",
       "4995  10379          29    2.0  43.177521   30.339945            5.0      6   \n",
       "4996  16138          38    3.0  93.698122   94.521465           10.0     21   \n",
       "4997   3912         101    1.0  33.656723   19.003259            5.0      2   \n",
       "4998   5722          10    1.0  38.635155   20.976257            9.0      8   \n",
       "4999  11004          21    2.0  67.122742   33.944344           13.0      9   \n",
       "\n",
       "      HouseFloor  HouseYear  Ecology_1  Social_1  Social_2  Social_3  \\\n",
       "0       9.000000     1970.0   0.036122        24      4378         0   \n",
       "1      17.000000     2017.0   0.072158         2       629         1   \n",
       "2      19.000000     1977.0   0.211401         9      1892         0   \n",
       "3      12.587313     1965.0   0.014073         2       475         0   \n",
       "4      17.000000     1977.0   0.309479        35      7715         4   \n",
       "...          ...        ...        ...       ...       ...       ...   \n",
       "4995    5.000000     1962.0   0.069660        31      6119         4   \n",
       "4996   27.000000     2018.0   0.060753        15      2787         2   \n",
       "4997    5.000000     1966.0   0.038693        28      6533         1   \n",
       "4998   14.000000     1970.0   0.089040        33      7976         5   \n",
       "4999   17.000000     2009.0   0.194489        47      8004         3   \n",
       "\n",
       "      Healthcare_1  Helthcare_2  Shops_1  Healthcare_1_nan  LifeSquare_nan  \n",
       "0      1036.000000            1        1                 0               0  \n",
       "1        57.915904            0        0                 1               0  \n",
       "2        57.915904            0        1                 1               1  \n",
       "3        57.915904            0        0                 1               0  \n",
       "4       990.000000            0        6                 0               1  \n",
       "...            ...          ...      ...               ...             ...  \n",
       "4995     57.915904            1        2                 1               0  \n",
       "4996    520.000000            0        7                 0               0  \n",
       "4997   1015.000000            2        5                 0               0  \n",
       "4998     57.915904            0       11                 1               0  \n",
       "4999    125.000000            3        5                 0               0  \n",
       "\n",
       "[5000 rows x 18 columns]"
      ]
     },
     "execution_count": 168,
     "metadata": {},
     "output_type": "execute_result"
    }
   ],
   "source": [
    "testdf"
   ]
  },
  {
   "cell_type": "code",
   "execution_count": 172,
   "id": "e346c005-0843-4e49-ac61-6108c5ebec9d",
   "metadata": {},
   "outputs": [
    {
     "data": {
      "text/html": [
       "<div>\n",
       "<style scoped>\n",
       "    .dataframe tbody tr th:only-of-type {\n",
       "        vertical-align: middle;\n",
       "    }\n",
       "\n",
       "    .dataframe tbody tr th {\n",
       "        vertical-align: top;\n",
       "    }\n",
       "\n",
       "    .dataframe thead th {\n",
       "        text-align: right;\n",
       "    }\n",
       "</style>\n",
       "<table border=\"1\" class=\"dataframe\">\n",
       "  <thead>\n",
       "    <tr style=\"text-align: right;\">\n",
       "      <th></th>\n",
       "      <th>Id</th>\n",
       "      <th>Price</th>\n",
       "    </tr>\n",
       "  </thead>\n",
       "  <tbody>\n",
       "    <tr>\n",
       "      <th>0</th>\n",
       "      <td>4567</td>\n",
       "      <td>200000.0</td>\n",
       "    </tr>\n",
       "    <tr>\n",
       "      <th>1</th>\n",
       "      <td>5925</td>\n",
       "      <td>200000.0</td>\n",
       "    </tr>\n",
       "    <tr>\n",
       "      <th>2</th>\n",
       "      <td>960</td>\n",
       "      <td>200000.0</td>\n",
       "    </tr>\n",
       "    <tr>\n",
       "      <th>3</th>\n",
       "      <td>3848</td>\n",
       "      <td>200000.0</td>\n",
       "    </tr>\n",
       "    <tr>\n",
       "      <th>4</th>\n",
       "      <td>746</td>\n",
       "      <td>200000.0</td>\n",
       "    </tr>\n",
       "  </tbody>\n",
       "</table>\n",
       "</div>"
      ],
      "text/plain": [
       "     Id     Price\n",
       "0  4567  200000.0\n",
       "1  5925  200000.0\n",
       "2   960  200000.0\n",
       "3  3848  200000.0\n",
       "4   746  200000.0"
      ]
     },
     "execution_count": 172,
     "metadata": {},
     "output_type": "execute_result"
    }
   ],
   "source": [
    "submit = pd.read_csv('sample_submission.csv')\n",
    "submit.head()"
   ]
  },
  {
   "cell_type": "code",
   "execution_count": 174,
   "id": "9c36d3d8-ec5b-4ee2-a699-f802330d431b",
   "metadata": {},
   "outputs": [
    {
     "data": {
      "text/plain": [
       "array([164941.36939144, 113859.74000226, 140951.89482482, ...,\n",
       "       147100.82528062, 188246.71734723, 279673.03108833])"
      ]
     },
     "execution_count": 174,
     "metadata": {},
     "output_type": "execute_result"
    }
   ],
   "source": [
    "predictions = rf_model.predict(testdf)\n",
    "predictions"
   ]
  },
  {
   "cell_type": "code",
   "execution_count": 175,
   "id": "d8ecd3f3-2f8d-419f-91f6-cfa7806494b5",
   "metadata": {},
   "outputs": [
    {
     "data": {
      "text/html": [
       "<div>\n",
       "<style scoped>\n",
       "    .dataframe tbody tr th:only-of-type {\n",
       "        vertical-align: middle;\n",
       "    }\n",
       "\n",
       "    .dataframe tbody tr th {\n",
       "        vertical-align: top;\n",
       "    }\n",
       "\n",
       "    .dataframe thead th {\n",
       "        text-align: right;\n",
       "    }\n",
       "</style>\n",
       "<table border=\"1\" class=\"dataframe\">\n",
       "  <thead>\n",
       "    <tr style=\"text-align: right;\">\n",
       "      <th></th>\n",
       "      <th>Id</th>\n",
       "      <th>Price</th>\n",
       "    </tr>\n",
       "  </thead>\n",
       "  <tbody>\n",
       "    <tr>\n",
       "      <th>0</th>\n",
       "      <td>4567</td>\n",
       "      <td>164941.369391</td>\n",
       "    </tr>\n",
       "    <tr>\n",
       "      <th>1</th>\n",
       "      <td>5925</td>\n",
       "      <td>113859.740002</td>\n",
       "    </tr>\n",
       "    <tr>\n",
       "      <th>2</th>\n",
       "      <td>960</td>\n",
       "      <td>140951.894825</td>\n",
       "    </tr>\n",
       "    <tr>\n",
       "      <th>3</th>\n",
       "      <td>3848</td>\n",
       "      <td>121664.532009</td>\n",
       "    </tr>\n",
       "    <tr>\n",
       "      <th>4</th>\n",
       "      <td>746</td>\n",
       "      <td>208510.371948</td>\n",
       "    </tr>\n",
       "  </tbody>\n",
       "</table>\n",
       "</div>"
      ],
      "text/plain": [
       "     Id          Price\n",
       "0  4567  164941.369391\n",
       "1  5925  113859.740002\n",
       "2   960  140951.894825\n",
       "3  3848  121664.532009\n",
       "4   746  208510.371948"
      ]
     },
     "execution_count": 175,
     "metadata": {},
     "output_type": "execute_result"
    }
   ],
   "source": [
    "submit['Price'] = predictions\n",
    "submit.head()"
   ]
  },
  {
   "cell_type": "code",
   "execution_count": 176,
   "id": "4c447ab3-5b9a-452d-a8c7-458c37b67275",
   "metadata": {},
   "outputs": [],
   "source": [
    "submit.to_csv('rf_submit.csv', index=False)"
   ]
  },
  {
   "cell_type": "code",
   "execution_count": null,
   "id": "54800580-5065-44b5-941d-5d740f5219a0",
   "metadata": {},
   "outputs": [],
   "source": []
  }
 ],
 "metadata": {
  "kernelspec": {
   "display_name": "Python 3",
   "language": "python",
   "name": "python3"
  },
  "language_info": {
   "codemirror_mode": {
    "name": "ipython",
    "version": 3
   },
   "file_extension": ".py",
   "mimetype": "text/x-python",
   "name": "python",
   "nbconvert_exporter": "python",
   "pygments_lexer": "ipython3",
   "version": "3.9.4"
  }
 },
 "nbformat": 4,
 "nbformat_minor": 5
}
