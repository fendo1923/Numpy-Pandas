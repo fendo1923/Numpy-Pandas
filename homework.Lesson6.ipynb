{
 "cells": [
  {
   "cell_type": "markdown",
   "id": "4422b5cc",
   "metadata": {},
   "source": [
    "1. Даны значения величины заработной платы заемщиков банка (zp) и значения их поведенческого кредитного скоринга (ks):\n",
    "zp = [35, 45, 190, 200, 40, 70, 54, 150, 120, 110],\n",
    "ks = [401, 574, 874, 919, 459, 739, 653, 902, 746, 832].\n",
    "Найдите ковариацию этих двух величин с помощью элементарных действий, а затем с помощью функции cov из numpy\n",
    "Полученные значения должны быть равны.\n",
    "Найдите коэффициент корреляции Пирсона с помощью ковариации и среднеквадратичных отклонений двух признаков,\n",
    "а затем с использованием функций из библиотек numpy и pandas."
   ]
  },
  {
   "cell_type": "code",
   "execution_count": 18,
   "id": "33a9c647",
   "metadata": {},
   "outputs": [],
   "source": [
    "import pandas as pd\n",
    "import numpy as np\n",
    "from statsmodels.stats.weightstats import _tconfint_generic as t_stat"
   ]
  },
  {
   "cell_type": "code",
   "execution_count": 3,
   "id": "6feb09de",
   "metadata": {},
   "outputs": [],
   "source": [
    "zp = np.array([35, 45, 190, 200, 40, 70, 54, 150, 120, 110])\n",
    "ks = np.array( [401, 574, 874, 919, 459, 739, 653, 902, 746, 832])"
   ]
  },
  {
   "cell_type": "code",
   "execution_count": 9,
   "id": "0cf308fd",
   "metadata": {},
   "outputs": [
    {
     "name": "stdout",
     "output_type": "stream",
     "text": [
      "MX =  101.4\n",
      "MY =  709.9\n",
      "MXY =  81141.7\n"
     ]
    }
   ],
   "source": [
    "M_x = zp.mean()\n",
    "M_y = ks.mean()\n",
    "M_xy = (zp * ks).mean()\n",
    "print(\"MX = \",M_x)\n",
    "print(\"MY = \",M_y)\n",
    "print(\"MXY = \",M_xy)"
   ]
  },
  {
   "cell_type": "code",
   "execution_count": 10,
   "id": "b22acc39",
   "metadata": {},
   "outputs": [
    {
     "data": {
      "text/plain": [
       "9157.839999999997"
      ]
     },
     "execution_count": 10,
     "metadata": {},
     "output_type": "execute_result"
    }
   ],
   "source": [
    "cov_ks = M_XY - M_X * M_Y\n",
    "cov_ks"
   ]
  },
  {
   "cell_type": "code",
   "execution_count": 11,
   "id": "4675c626",
   "metadata": {},
   "outputs": [
    {
     "data": {
      "text/plain": [
       "array([[ 3494.64,  9157.84],\n",
       "       [ 9157.84, 30468.89]])"
      ]
     },
     "execution_count": 11,
     "metadata": {},
     "output_type": "execute_result"
    }
   ],
   "source": [
    "np.cov(zp, ks, ddof=0)"
   ]
  },
  {
   "cell_type": "code",
   "execution_count": 12,
   "id": "1dc24a08",
   "metadata": {},
   "outputs": [
    {
     "data": {
      "text/plain": [
       "9157.84"
      ]
     },
     "execution_count": 12,
     "metadata": {},
     "output_type": "execute_result"
    }
   ],
   "source": [
    "cov_ks2 = ((zp - zp.mean()) * (ks - ks.mean())).mean()\n",
    "cov_ks2"
   ]
  },
  {
   "cell_type": "code",
   "execution_count": 13,
   "id": "84c3313e",
   "metadata": {},
   "outputs": [],
   "source": [
    "std_X = zp.std()\n",
    "std_Y = ks.std()"
   ]
  },
  {
   "cell_type": "code",
   "execution_count": 14,
   "id": "dd351568",
   "metadata": {},
   "outputs": [
    {
     "data": {
      "text/plain": [
       "0.8874900920739158"
      ]
     },
     "execution_count": 14,
     "metadata": {},
     "output_type": "execute_result"
    }
   ],
   "source": [
    "corr_ks = cov_ks / (std_X * std_Y)\n",
    "corr_ks"
   ]
  },
  {
   "cell_type": "code",
   "execution_count": 15,
   "id": "dc8ca5a3",
   "metadata": {},
   "outputs": [
    {
     "data": {
      "text/plain": [
       "array([[1.        , 0.88749009],\n",
       "       [0.88749009, 1.        ]])"
      ]
     },
     "execution_count": 15,
     "metadata": {},
     "output_type": "execute_result"
    }
   ],
   "source": [
    "np.corrcoef(zp, ks)"
   ]
  },
  {
   "cell_type": "markdown",
   "id": "ddb1629d",
   "metadata": {},
   "source": [
    "2. Измерены значения IQ выборки студентов,\n",
    "обучающихся в местных технических вузах:\n",
    "131, 125, 115, 122, 131, 115, 107, 99, 125, 111.\n",
    "Известно, что в генеральной совокупности IQ распределен нормально.\n",
    "Найдите доверительный интервал для математического ожидания с надежностью 0.95.\n"
   ]
  },
  {
   "cell_type": "code",
   "execution_count": 19,
   "id": "22059a26",
   "metadata": {},
   "outputs": [
    {
     "data": {
      "text/plain": [
       "(110.55608365158724, 125.64391634841274)"
      ]
     },
     "execution_count": 19,
     "metadata": {},
     "output_type": "execute_result"
    }
   ],
   "source": [
    "X = np.array([131.0, 125.0, 115.0, 122.0, 131.0, 115.0, 107.0, 99.0, 125.0, 111.0])\n",
    "mean_X = X.mean()\n",
    "std_X = X.std(ddof=1)\n",
    "mean_std_X = std_X / (np.sqrt(len(X)))\n",
    "t_stat(mean_X, mean_std_X,len(X) - 1, 0.05, 'two-sided')"
   ]
  },
  {
   "cell_type": "markdown",
   "id": "9dabb239",
   "metadata": {},
   "source": [
    "3. Известно, что рост футболистов в сборной распределен нормально\n",
    "с дисперсией генеральной совокупности, равной 25 кв.см. Объем выборки равен 27,\n",
    "среднее выборочное составляет 174.2. Найдите доверительный интервал для математического\n",
    "ожидания с надежностью 0.95.\n"
   ]
  },
  {
   "cell_type": "code",
   "execution_count": 22,
   "id": "0bf72384",
   "metadata": {},
   "outputs": [],
   "source": [
    "mean_x = 174.2\n",
    "std_x = np.sqrt(25)\n",
    "mean_std_x = std_x / np.sqrt(27)"
   ]
  },
  {
   "cell_type": "code",
   "execution_count": 23,
   "id": "936ea972",
   "metadata": {},
   "outputs": [
    {
     "data": {
      "text/plain": [
       "(172.2220658754539, 176.17793412454608)"
      ]
     },
     "execution_count": 23,
     "metadata": {},
     "output_type": "execute_result"
    }
   ],
   "source": [
    "t_stat(mean_x, mean_std_x,27 - 1, 0.05, 'two-sided')"
   ]
  }
 ],
 "metadata": {
  "kernelspec": {
   "display_name": "Python 3 (ipykernel)",
   "language": "python",
   "name": "python3"
  },
  "language_info": {
   "codemirror_mode": {
    "name": "ipython",
    "version": 3
   },
   "file_extension": ".py",
   "mimetype": "text/x-python",
   "name": "python",
   "nbconvert_exporter": "python",
   "pygments_lexer": "ipython3",
   "version": "3.10.2"
  }
 },
 "nbformat": 4,
 "nbformat_minor": 5
}
