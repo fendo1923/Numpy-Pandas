{
 "cells": [
  {
   "cell_type": "markdown",
   "id": "a75e14a5",
   "metadata": {},
   "source": [
    "__Задача 1__\n",
    "\n",
    "Известно, что генеральная совокупность распределена нормально с известным средним квадратическим отклонением 16. Найти ширину доверительного интервала для оценки математического ожидания `mu` с надёжностью 0.95, если выборочное среднее равно 80, а объём выборки равен 256.\n",
    "\n",
    "σ = 16; M = 80; n = 256\n",
    "\n",
    "Поскольку нам известно среднее квадратическое отклонение генеральной совокупности , то для расчета -го доверительного интервала, будем использовать Z-критерий. И границы доверительного интервала расчитаем по формуле:\n",
    "X +- Zα/2 *σ/√n\n",
    "Zα/2  табличное значение -критерия, и для 95%-го доверительного интервала = 1,96 \n",
    "X = M = 80\n",
    "[80-1,96*(16/√256);80+1,96*(16/√256)]"
   ]
  },
  {
   "cell_type": "code",
   "execution_count": 26,
   "id": "d2936048",
   "metadata": {},
   "outputs": [],
   "source": [
    "import numpy as np\n",
    "import scipy.stats as stats"
   ]
  },
  {
   "cell_type": "code",
   "execution_count": 2,
   "id": "32fc2ced",
   "metadata": {},
   "outputs": [
    {
     "name": "stdout",
     "output_type": "stream",
     "text": [
      "95%-й доверительный интервал для оценки мат. ожидания генеральной совокупности: [78.04;81.96].\n"
     ]
    }
   ],
   "source": [
    "L=80-1.96*16/(256**(1/2))\n",
    "R=80+1.96*16/(256**(1/2))\n",
    "print(f'95%-й доверительный интервал для оценки мат. ожидания генеральной совокупности: [{L};{R}].')"
   ]
  },
  {
   "cell_type": "markdown",
   "id": "40e239b4",
   "metadata": {},
   "source": [
    "__Задача 2__\n",
    "\n",
    "Продавец утверждает, что средний вес пачки печенья составляет 200 г. Из партии извлечена выборка из 10 пачек. Вес каждой пачки составляет:\n",
    "```\n",
    "202, 203, 199, 197, 195, 201, 200, 204, 194, 190\n",
    "```\n",
    "Известно, что их веса распределены нормально. Верно ли утверждение продавца, если учитывать, что уровень значимости равен 1%? Найдите P-значение для данного теста и укажите его в качестве ответа.\n",
    "\n",
    "Из условия задачи следует что нужно проводить проверку следующих гипотез:\n",
    "H0 : μ = μ0 = 200, где  μ и μ0 средние выборки и генеральной совокупности и выборки, соответственно.\n",
    "Альтернативная гипотеза:\n",
    "H1 : μ ≠ μ0 = 200\n",
    "α = 0.01\n",
    "Так как нам не известны ни среднее, ни дисперсия генеральной совокупности, то для проверки гипотезы будем использовать t-критерий."
   ]
  },
  {
   "cell_type": "code",
   "execution_count": 3,
   "id": "e6e8c059",
   "metadata": {},
   "outputs": [
    {
     "name": "stdout",
     "output_type": "stream",
     "text": [
      "Наблюдаемое значение t-критерия: -1.0651\n"
     ]
    }
   ],
   "source": [
    "cookies=np.array([202, 203, 199, 197, 195, 201, 200, 204, 194, 190])\n",
    "#Расчитаем наблюдаемое значение t-критерия tн\n",
    "tn=(np.mean(cookies)-200)/(np.std(cookies,ddof=1)/len(cookies)**0.5)\n",
    "print(f'Наблюдаемое значение t-критерия: {tn: .4f}')"
   ]
  },
  {
   "cell_type": "markdown",
   "id": "80beafb6",
   "metadata": {},
   "source": [
    "Найдем табличное значение t-критерия tt, для α/2 = 0.01/2 = 0.005"
   ]
  },
  {
   "cell_type": "code",
   "execution_count": 4,
   "id": "ea9252cf",
   "metadata": {},
   "outputs": [
    {
     "name": "stdout",
     "output_type": "stream",
     "text": [
      "Табличное значение t-критерия:  3.2498\n"
     ]
    }
   ],
   "source": [
    "tt=stats.t.ppf(0.995,len(cookies)-1)\n",
    "print(f'Табличное значение t-критерия: {tt: .4f}')"
   ]
  },
  {
   "cell_type": "markdown",
   "id": "bb8d24f4",
   "metadata": {},
   "source": [
    "Сравним полученные значения (поскольку у нас двусторонний критерий, то используем абсолютное значение полученного t-критерия):"
   ]
  },
  {
   "cell_type": "code",
   "execution_count": 5,
   "id": "7aa1863f",
   "metadata": {},
   "outputs": [
    {
     "data": {
      "text/plain": [
       "True"
      ]
     },
     "execution_count": 5,
     "metadata": {},
     "output_type": "execute_result"
    }
   ],
   "source": [
    "np.abs(tn)<tt"
   ]
  },
  {
   "cell_type": "code",
   "execution_count": 6,
   "id": "b31e0580",
   "metadata": {},
   "outputs": [],
   "source": [
    "P = 0.31456"
   ]
  },
  {
   "cell_type": "markdown",
   "id": "d95a905a",
   "metadata": {},
   "source": [
    "__Задача 3__\n",
    "\n",
    "Дана выборка диаметров подшипников из примера 1 с занятия 5:\n",
    "```\n",
    "samples = [0.6603, 0.9466, 0.5968, 1.3792, 1.5481, 0.7515, 1.0681, 1.1134,\n",
    "           1.2088, 1.701 , 1.0282, 1.3579, 1.0191, 1.1784, 1.1168, 1.1372,\n",
    "           0.7273, 1.3958, 0.8665, 1.5112, 1.161 , 1.0232, 1.0865, 1.02  ]\n",
    "```\n",
    "Предполагая, что диаметры подшипников распределены нормально, проверьте гипотезу о том, что дисперсия случайной величины равна `0.0625` при уровне значимости `alpha = 0.05`. Что для этого нужно знать:\n",
    "1. Альтернативная гипотеза двухсторонняя.\n",
    "2. Статистика для теста: `H = (n - 1) * sample_variance / variance`, где `n` - число элементов в выборке, `sample_variance` - несмещённая оценка дисперсии, `variance` - утверждаемая нулевой гипотезой дисперсия.\n",
    "3. Эта статистика в предположении верности нулевой гипотезы имеет распределение хи-квадрат с параметром `df = n - 1`. Её квантили можно найти с помощью функции `scipy.stats.chi2.ppf`.\n",
    "\n",
    "В качестве ответа запишите 1, если нулевая гипотеза верна, и 0 иначе.\n",
    "\n",
    "__Ответ__: 1"
   ]
  },
  {
   "cell_type": "code",
   "execution_count": 17,
   "id": "ecdfe5f6",
   "metadata": {},
   "outputs": [],
   "source": [
    "samples =np.array([0.6603, 0.9466, 0.5968, 1.3792, 1.5481, 0.7515, 1.0681, 1.1134,\n",
    "           1.2088, 1.701 , 1.0282, 1.3579, 1.0191, 1.1784, 1.1168, 1.1372,\n",
    "           0.7273, 1.3958, 0.8665, 1.5112, 1.161 , 1.0232, 1.0865, 1.02])"
   ]
  },
  {
   "cell_type": "code",
   "execution_count": 8,
   "id": "07d4f388",
   "metadata": {},
   "outputs": [
    {
     "data": {
      "text/plain": [
       "0.25"
      ]
     },
     "execution_count": 8,
     "metadata": {},
     "output_type": "execute_result"
    }
   ],
   "source": [
    "σ = 0.0625 **(1/2)\n",
    "σ"
   ]
  },
  {
   "cell_type": "code",
   "execution_count": 18,
   "id": "530bab3d",
   "metadata": {},
   "outputs": [
    {
     "data": {
      "text/plain": [
       "0.27936526343958135"
      ]
     },
     "execution_count": 18,
     "metadata": {},
     "output_type": "execute_result"
    }
   ],
   "source": [
    "samples.std(ddof=1)"
   ]
  },
  {
   "cell_type": "code",
   "execution_count": 20,
   "id": "687f3d58",
   "metadata": {},
   "outputs": [
    {
     "data": {
      "text/plain": [
       "(24,)"
      ]
     },
     "execution_count": 20,
     "metadata": {},
     "output_type": "execute_result"
    }
   ],
   "source": [
    "samples.shape"
   ]
  },
  {
   "cell_type": "code",
   "execution_count": 22,
   "id": "c1593faa",
   "metadata": {},
   "outputs": [
    {
     "data": {
      "text/plain": [
       "25.701604236441483"
      ]
     },
     "execution_count": 22,
     "metadata": {},
     "output_type": "execute_result"
    }
   ],
   "source": [
    "H = (24 - 1) * samples.std(ddof=1) / 0.25\n",
    "H"
   ]
  },
  {
   "cell_type": "code",
   "execution_count": 29,
   "id": "950b0cee",
   "metadata": {
    "scrolled": true
   },
   "outputs": [
    {
     "data": {
      "text/plain": [
       "<bound method rv_continuous.ppf of <scipy.stats._continuous_distns.chi2_gen object at 0x000001B97F59AC50>>"
      ]
     },
     "execution_count": 29,
     "metadata": {},
     "output_type": "execute_result"
    }
   ],
   "source": [
    "df = stats.chi2.ppf"
   ]
  },
  {
   "cell_type": "code",
   "execution_count": null,
   "id": "b152cb51",
   "metadata": {},
   "outputs": [],
   "source": []
  }
 ],
 "metadata": {
  "kernelspec": {
   "display_name": "Python 3 (ipykernel)",
   "language": "python",
   "name": "python3"
  },
  "language_info": {
   "codemirror_mode": {
    "name": "ipython",
    "version": 3
   },
   "file_extension": ".py",
   "mimetype": "text/x-python",
   "name": "python",
   "nbconvert_exporter": "python",
   "pygments_lexer": "ipython3",
   "version": "3.10.2"
  }
 },
 "nbformat": 4,
 "nbformat_minor": 5
}
